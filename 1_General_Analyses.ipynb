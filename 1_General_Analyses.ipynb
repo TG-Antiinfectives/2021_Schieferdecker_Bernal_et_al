{
 "cells": [
  {
   "cell_type": "markdown",
   "id": "biological-producer",
   "metadata": {},
   "source": [
    "# <span style='color:blue'> General analysis of data</span>"
   ]
  },
  {
   "cell_type": "markdown",
   "id": "corrected-education",
   "metadata": {},
   "source": [
    "The present `Jupyter Notebook` contains the global analysis of activity data and structural similarity for the group of   BTZs synthesized at the Leibniz-HKI. "
   ]
  },
  {
   "cell_type": "markdown",
   "id": "graduate-advancement",
   "metadata": {},
   "source": [
    "## Import Essentials"
   ]
  },
  {
   "cell_type": "code",
   "execution_count": 1,
   "id": "stretch-flashing",
   "metadata": {},
   "outputs": [],
   "source": [
    "import numpy as np\n",
    "import pandas as pd\n",
    "import matplotlib.pyplot as plt\n",
    "import seaborn as sns\n",
    "from matplotlib.colors import LinearSegmentedColormap\n",
    "from matplotlib.cm import ScalarMappable\n",
    "\n",
    "from sklearn.manifold import MDS\n",
    "\n",
    "from rdkit.Chem import Descriptors\n",
    "from rdkit import Chem\n",
    "from rdkit.Chem import AllChem\n",
    "from rdkit import DataStructs\n"
   ]
  },
  {
   "cell_type": "code",
   "execution_count": 2,
   "id": "numerical-amber",
   "metadata": {},
   "outputs": [],
   "source": [
    "# Import functions from customized module\n",
    "from Scripts.preprocessing import create_mol"
   ]
  },
  {
   "cell_type": "markdown",
   "id": "atmospheric-arnold",
   "metadata": {},
   "source": [
    "## Define file names and colors"
   ]
  },
  {
   "cell_type": "code",
   "execution_count": 3,
   "id": "assumed-saturn",
   "metadata": {},
   "outputs": [],
   "source": [
    "# File names and sheet names\n",
    "descriptors_file = './Data/BTZs_full_descriptors_final.xlsx'\n",
    "data_matrix = 'general_data_matrix'\n",
    "\n",
    "# Colors\n",
    "colors1 = ['#eff3ff', '#c6dbef', '#9ecae1', '#6baed6', '#3182bd', '#08519c']\n",
    "colors2 = ['#d7191c', '#2c7bb6']\n",
    "\n",
    "# Define a customized colormap \n",
    "cmap = LinearSegmentedColormap.from_list('', colors1)"
   ]
  },
  {
   "cell_type": "markdown",
   "id": "operational-header",
   "metadata": {},
   "source": [
    "## Load data  "
   ]
  },
  {
   "cell_type": "markdown",
   "id": "cellular-brazil",
   "metadata": {},
   "source": [
    "These descriptors were calculated in the Schrödinger Suite and exported as a csv file."
   ]
  },
  {
   "cell_type": "code",
   "execution_count": 4,
   "id": "crucial-paintball",
   "metadata": {},
   "outputs": [],
   "source": [
    "# Load excel spreadsheet\n",
    "BTZs = pd.read_excel(descriptors_file, sheet_name=data_matrix)"
   ]
  },
  {
   "cell_type": "code",
   "execution_count": 5,
   "id": "artificial-latin",
   "metadata": {},
   "outputs": [
    {
     "data": {
      "text/html": [
       "<div>\n",
       "<style scoped>\n",
       "    .dataframe tbody tr th:only-of-type {\n",
       "        vertical-align: middle;\n",
       "    }\n",
       "\n",
       "    .dataframe tbody tr th {\n",
       "        vertical-align: top;\n",
       "    }\n",
       "\n",
       "    .dataframe thead th {\n",
       "        text-align: right;\n",
       "    }\n",
       "</style>\n",
       "<table border=\"1\" class=\"dataframe\">\n",
       "  <thead>\n",
       "    <tr style=\"text-align: right;\">\n",
       "      <th></th>\n",
       "      <th>ID_Paper</th>\n",
       "      <th>Code</th>\n",
       "      <th>Smiles</th>\n",
       "      <th>MIC[M]</th>\n",
       "      <th>pMIC</th>\n",
       "      <th>Class</th>\n",
       "      <th>Group</th>\n",
       "    </tr>\n",
       "  </thead>\n",
       "  <tbody>\n",
       "    <tr>\n",
       "      <th>0</th>\n",
       "      <td>32</td>\n",
       "      <td>SSN2785</td>\n",
       "      <td>OC(C(C=CC=C1)=C1N2CCN(C3=NC(C4=C(C([N+]([O-])=...</td>\n",
       "      <td>6.494342e-06</td>\n",
       "      <td>5.187465</td>\n",
       "      <td>0</td>\n",
       "      <td>3</td>\n",
       "    </tr>\n",
       "    <tr>\n",
       "      <th>1</th>\n",
       "      <td>31</td>\n",
       "      <td>SSN2791</td>\n",
       "      <td>CC(C(C=C1)=CC=C1N2CCN(C3=NC(C4=C(C([N+]([O-])=...</td>\n",
       "      <td>1.295861e-07</td>\n",
       "      <td>6.887441</td>\n",
       "      <td>0</td>\n",
       "      <td>3</td>\n",
       "    </tr>\n",
       "    <tr>\n",
       "      <th>2</th>\n",
       "      <td>35</td>\n",
       "      <td>SSN2792</td>\n",
       "      <td>COC1=CC(OC)=CC(N2CCN(C3=NC(C4=C(C([N+]([O-])=O...</td>\n",
       "      <td>6.244194e-08</td>\n",
       "      <td>7.204524</td>\n",
       "      <td>1</td>\n",
       "      <td>3</td>\n",
       "    </tr>\n",
       "    <tr>\n",
       "      <th>3</th>\n",
       "      <td>34</td>\n",
       "      <td>SSN2793</td>\n",
       "      <td>O=C1C2=C(C([N+]([O-])=O)=CC(C(F)(F)F)=C2)SC(N3...</td>\n",
       "      <td>3.467563e-08</td>\n",
       "      <td>7.459976</td>\n",
       "      <td>1</td>\n",
       "      <td>3</td>\n",
       "    </tr>\n",
       "    <tr>\n",
       "      <th>4</th>\n",
       "      <td>33</td>\n",
       "      <td>SSN2794</td>\n",
       "      <td>O=C1C2=C(C([N+]([O-])=O)=CC(C(F)(F)F)=C2)SC(N3...</td>\n",
       "      <td>8.668907e-09</td>\n",
       "      <td>8.062036</td>\n",
       "      <td>1</td>\n",
       "      <td>3</td>\n",
       "    </tr>\n",
       "    <tr>\n",
       "      <th>...</th>\n",
       "      <td>...</td>\n",
       "      <td>...</td>\n",
       "      <td>...</td>\n",
       "      <td>...</td>\n",
       "      <td>...</td>\n",
       "      <td>...</td>\n",
       "      <td>...</td>\n",
       "    </tr>\n",
       "    <tr>\n",
       "      <th>91</th>\n",
       "      <td>73</td>\n",
       "      <td>TFK-040</td>\n",
       "      <td>O=C1C2=C(C([N+]([O-])=O)=CC(C(F)(F)F)=C2)SC(N3...</td>\n",
       "      <td>1.053922e-04</td>\n",
       "      <td>3.977191</td>\n",
       "      <td>0</td>\n",
       "      <td>4</td>\n",
       "    </tr>\n",
       "    <tr>\n",
       "      <th>92</th>\n",
       "      <td>88</td>\n",
       "      <td>TFK-052</td>\n",
       "      <td>O=C1C2=C(C([N+]([O-])=O)=CC(C(F)(F)F)=C2)SC(NC...</td>\n",
       "      <td>6.137572e-05</td>\n",
       "      <td>4.212003</td>\n",
       "      <td>0</td>\n",
       "      <td>6</td>\n",
       "    </tr>\n",
       "    <tr>\n",
       "      <th>93</th>\n",
       "      <td>24</td>\n",
       "      <td>TFK-057</td>\n",
       "      <td>O=C1C2=C(C([N+]([O-])=O)=CC(C(F)(F)F)=C2)SC(N3...</td>\n",
       "      <td>6.590200e-06</td>\n",
       "      <td>5.181101</td>\n",
       "      <td>0</td>\n",
       "      <td>2</td>\n",
       "    </tr>\n",
       "    <tr>\n",
       "      <th>94</th>\n",
       "      <td>80</td>\n",
       "      <td>TFK-072</td>\n",
       "      <td>O=C1C2=C(C([N+]([O-])=O)=CC(C(F)(F)F)=C2)SC(N3...</td>\n",
       "      <td>1.360461e-05</td>\n",
       "      <td>4.866314</td>\n",
       "      <td>0</td>\n",
       "      <td>5</td>\n",
       "    </tr>\n",
       "    <tr>\n",
       "      <th>95</th>\n",
       "      <td>89</td>\n",
       "      <td>TFK-073-2</td>\n",
       "      <td>CN(C1=NC(C2=C(C([N+]([O-])=O)=CC(C(F)(F)F)=C2)...</td>\n",
       "      <td>9.493201e-07</td>\n",
       "      <td>6.022587</td>\n",
       "      <td>0</td>\n",
       "      <td>6</td>\n",
       "    </tr>\n",
       "  </tbody>\n",
       "</table>\n",
       "<p>96 rows × 7 columns</p>\n",
       "</div>"
      ],
      "text/plain": [
       "   ID_Paper       Code                                             Smiles  \\\n",
       "0        32    SSN2785  OC(C(C=CC=C1)=C1N2CCN(C3=NC(C4=C(C([N+]([O-])=...   \n",
       "1        31    SSN2791  CC(C(C=C1)=CC=C1N2CCN(C3=NC(C4=C(C([N+]([O-])=...   \n",
       "2        35    SSN2792  COC1=CC(OC)=CC(N2CCN(C3=NC(C4=C(C([N+]([O-])=O...   \n",
       "3        34    SSN2793  O=C1C2=C(C([N+]([O-])=O)=CC(C(F)(F)F)=C2)SC(N3...   \n",
       "4        33    SSN2794  O=C1C2=C(C([N+]([O-])=O)=CC(C(F)(F)F)=C2)SC(N3...   \n",
       "..      ...        ...                                                ...   \n",
       "91       73    TFK-040  O=C1C2=C(C([N+]([O-])=O)=CC(C(F)(F)F)=C2)SC(N3...   \n",
       "92       88    TFK-052  O=C1C2=C(C([N+]([O-])=O)=CC(C(F)(F)F)=C2)SC(NC...   \n",
       "93       24    TFK-057  O=C1C2=C(C([N+]([O-])=O)=CC(C(F)(F)F)=C2)SC(N3...   \n",
       "94       80    TFK-072  O=C1C2=C(C([N+]([O-])=O)=CC(C(F)(F)F)=C2)SC(N3...   \n",
       "95       89  TFK-073-2  CN(C1=NC(C2=C(C([N+]([O-])=O)=CC(C(F)(F)F)=C2)...   \n",
       "\n",
       "          MIC[M]      pMIC  Class  Group  \n",
       "0   6.494342e-06  5.187465      0      3  \n",
       "1   1.295861e-07  6.887441      0      3  \n",
       "2   6.244194e-08  7.204524      1      3  \n",
       "3   3.467563e-08  7.459976      1      3  \n",
       "4   8.668907e-09  8.062036      1      3  \n",
       "..           ...       ...    ...    ...  \n",
       "91  1.053922e-04  3.977191      0      4  \n",
       "92  6.137572e-05  4.212003      0      6  \n",
       "93  6.590200e-06  5.181101      0      2  \n",
       "94  1.360461e-05  4.866314      0      5  \n",
       "95  9.493201e-07  6.022587      0      6  \n",
       "\n",
       "[96 rows x 7 columns]"
      ]
     },
     "execution_count": 5,
     "metadata": {},
     "output_type": "execute_result"
    }
   ],
   "source": [
    "BTZs"
   ]
  },
  {
   "cell_type": "code",
   "execution_count": 6,
   "id": "emerging-baghdad",
   "metadata": {},
   "outputs": [],
   "source": [
    "# Create new dataframe from BTZs\n",
    "BTZs_morgan = BTZs.copy()\n",
    "# Apply create_mol to calculate Morgan fingerprints \n",
    "create_mol(BTZs_morgan, 'ecfp4', n_bits=2048)"
   ]
  },
  {
   "cell_type": "code",
   "execution_count": 7,
   "id": "inclusive-cheat",
   "metadata": {},
   "outputs": [],
   "source": [
    "BTZs_rdkit = BTZs.copy()\n",
    "# Apply create_mol\n",
    "create_mol(BTZs_rdkit, 'rdk5', n_bits=2048)"
   ]
  },
  {
   "cell_type": "markdown",
   "id": "broke-terror",
   "metadata": {},
   "source": [
    "## Activity distributions"
   ]
  },
  {
   "cell_type": "markdown",
   "id": "consistent-mistake",
   "metadata": {},
   "source": [
    "In order to get a global insight into the activity distributions, construction of kernel density distributions plots was attempted (using Seaborn). "
   ]
  },
  {
   "cell_type": "code",
   "execution_count": 8,
   "id": "executive-service",
   "metadata": {
    "scrolled": true
   },
   "outputs": [
    {
     "data": {
      "text/plain": [
       "<AxesSubplot:xlabel='Group', ylabel='pMIC'>"
      ]
     },
     "execution_count": 8,
     "metadata": {},
     "output_type": "execute_result"
    },
    {
     "data": {
      "image/png": "[encoded data removed]",
      "text/plain": [
       "<Figure size 432x288 with 1 Axes>"
      ]
     },
     "metadata": {
      "needs_background": "light"
     },
     "output_type": "display_data"
    }
   ],
   "source": [
    "# Plot distributions using a swarm plot\n",
    "sns.swarmplot(x='Group', y='pMIC', data=BTZs, palette=sns.color_palette('bright', n_colors=6))"
   ]
  },
  {
   "cell_type": "markdown",
   "id": "usual-alexandria",
   "metadata": {},
   "source": [
    "The results were then better observed as distributions using kernel density estimation"
   ]
  },
  {
   "cell_type": "code",
   "execution_count": 9,
   "id": "played-thought",
   "metadata": {},
   "outputs": [
    {
     "data": {
      "text/plain": [
       "<seaborn.axisgrid.FacetGrid at 0x7f47af9eff28>"
      ]
     },
     "execution_count": 9,
     "metadata": {},
     "output_type": "execute_result"
    },
    {
     "data": {
      "image/png": "[encoded data removed]",
      "text/plain": [
       "<Figure size 402.375x360 with 1 Axes>"
      ]
     },
     "metadata": {
      "needs_background": "light"
     },
     "output_type": "display_data"
    }
   ],
   "source": [
    "# Plot distributions using kde obtained from Seaborn functionality\n",
    "sns.displot(data=BTZs, x='pMIC', hue='Group', kind='kde', palette=sns.color_palette('bright', n_colors=6))"
   ]
  },
  {
   "cell_type": "code",
   "execution_count": 10,
   "id": "trying-sword",
   "metadata": {},
   "outputs": [
    {
     "name": "stdout",
     "output_type": "stream",
     "text": [
      "Maximum IC50: 125.84 uM\n"
     ]
    }
   ],
   "source": [
    "print('Maximum IC50: {} uM'.format(np.round((10 ** -BTZs.pMIC.min()) * 1e6, 2)))"
   ]
  },
  {
   "cell_type": "code",
   "execution_count": 11,
   "id": "golden-milton",
   "metadata": {},
   "outputs": [
    {
     "name": "stdout",
     "output_type": "stream",
     "text": [
      "Minimum IC50: 2.74 nM\n"
     ]
    }
   ],
   "source": [
    "print('Minimum IC50: {} nM'.format(np.round((10 ** -BTZs.pMIC.max()) * 1e9, 2)))"
   ]
  },
  {
   "cell_type": "markdown",
   "id": "favorite-destiny",
   "metadata": {},
   "source": [
    "## Further analysis of groups 1 and 3"
   ]
  },
  {
   "cell_type": "code",
   "execution_count": 12,
   "id": "polyphonic-burke",
   "metadata": {},
   "outputs": [],
   "source": [
    "# Add mol object to dataframe\n",
    "BTZs['mol'] = BTZs.Smiles.apply(Chem.MolFromSmiles)"
   ]
  },
  {
   "cell_type": "code",
   "execution_count": 13,
   "id": "naked-superintendent",
   "metadata": {},
   "outputs": [
    {
     "data": {
      "text/plain": [
       "(19, 8)"
      ]
     },
     "execution_count": 13,
     "metadata": {},
     "output_type": "execute_result"
    }
   ],
   "source": [
    "# Retrieve only data for group 1\n",
    "data_group1 = BTZs[BTZs.Group==1]\n",
    "data_group1.shape"
   ]
  },
  {
   "cell_type": "code",
   "execution_count": 14,
   "id": "written-weekend",
   "metadata": {},
   "outputs": [],
   "source": [
    "# Calculate fingerprints for Tanimoto\n",
    "fp1 = [AllChem.GetMorganFingerprint(x, 2) for x in data_group1.mol]\n",
    "\n",
    "# Generate Similarity matrix using compound with activity equal to the median of the group as reference\n",
    "qu1, sim1, da1, aa1 = [], [], [], []\n",
    "ref_idx1 = data_group1.ID_Paper.to_list().index('18a') # compound 18a used as reference\n",
    "# ref = 10\n",
    "for i in range(len(fp1)):\n",
    "    if i != ref_idx1:\n",
    "        s = DataStructs.TanimotoSimilarity(fp1[ref_idx1], fp1[i])\n",
    "        qu1.append(data_group1.ID_Paper.values[i])\n",
    "        sim1.append(s)\n",
    "        da1.append(data_group1.pMIC.values[i] - data_group1.pMIC.values[ref_idx1])\n",
    "        aa1.append(data_group1.pMIC.values[i])"
   ]
  },
  {
   "cell_type": "code",
   "execution_count": 15,
   "id": "cathedral-thailand",
   "metadata": {},
   "outputs": [],
   "source": [
    "# Store in dataframe\n",
    "d1 = {'query_ID': qu1, 'Similarity': sim1, 'Delta_activity': da1, 'Activity': aa1}\n",
    "df_group1 = pd.DataFrame(data=d1)\n",
    "# Order dataframes by similarity\n",
    "df_group1.sort_values(by='Similarity', inplace=True)"
   ]
  },
  {
   "cell_type": "code",
   "execution_count": 16,
   "id": "outstanding-floor",
   "metadata": {},
   "outputs": [
    {
     "data": {
      "image/png": "[encoded data removed]",
      "text/plain": [
       "<Figure size 432x216 with 2 Axes>"
      ]
     },
     "metadata": {
      "needs_background": "light"
     },
     "output_type": "display_data"
    }
   ],
   "source": [
    "# Define x\n",
    "x = np.arange(len(df_group1))\n",
    "# Define rescaling\n",
    "rescale = lambda y: (y - np.min(y)) / (np.max(y) - np.min(y))\n",
    "\n",
    "# Create figure object and store it in a variable called 'fig'\n",
    "fig = plt.figure(figsize=(6, 3))\n",
    "\n",
    "# Add axes object to our figure \n",
    "ax = fig.add_subplot(111)\n",
    "\n",
    "# Create bar plot and add line at y = 0\n",
    "ax.bar(x, df_group1.Delta_activity,  \n",
    "       color=cmap(rescale(df_group1.Activity)),\n",
    "       edgecolor=[0.2, 0.2, 0.2])\n",
    "ax.axhline(y=0, linewidth=1, color='k')\n",
    "\n",
    "ax.set_xlabel('Compound')\n",
    "ax.set_ylabel('Activity change')\n",
    "ax.set_xticks(x)\n",
    "ax.set_xlim(-1, 18)\n",
    "ax.set_xticklabels(df_group1.query_ID, rotation=90, fontweight='bold')\n",
    "\n",
    "# Add colorbar\n",
    "sm = ScalarMappable(cmap=cmap, norm=plt.Normalize(df_group1.Activity.min(),df_group1.Activity.max()))\n",
    "sm.set_array([])\n",
    "\n",
    "cbar = plt.colorbar(sm)\n",
    "cbar.set_label('pMIC', rotation=90)\n",
    "\n",
    "plt.show()"
   ]
  },
  {
   "cell_type": "code",
   "execution_count": 17,
   "id": "headed-affiliate",
   "metadata": {},
   "outputs": [
    {
     "data": {
      "text/plain": [
       "(35, 8)"
      ]
     },
     "execution_count": 17,
     "metadata": {},
     "output_type": "execute_result"
    }
   ],
   "source": [
    "# Retrieve data only for group 3\n",
    "data_group3 = BTZs[BTZs.Group==3]\n",
    "data_group3.shape"
   ]
  },
  {
   "cell_type": "code",
   "execution_count": 18,
   "id": "metropolitan-accident",
   "metadata": {},
   "outputs": [],
   "source": [
    "# Calculate fingerprints for Tanimoto\n",
    "fp3 = [AllChem.GetMorganFingerprint(x, 2) for x in data_group3.mol]\n",
    "\n",
    "# Generate Similarity matrix using compound with activity equal to the median of the group as reference\n",
    "qu3, sim3, da3, aa3 = [], [], [], []\n",
    "ref_idx3 = data_group3.ID_Paper.to_list().index(35) # compound 35 used as reference\n",
    "# ref = 10\n",
    "for i in range(len(fp3)):\n",
    "    if i != ref_idx3:\n",
    "        s = DataStructs.TanimotoSimilarity(fp3[ref_idx3], fp3[i])\n",
    "        qu3.append(data_group3.ID_Paper.values[i])\n",
    "        sim3.append(s)\n",
    "        da3.append(data_group3.pMIC.values[i] - data_group3.pMIC.values[ref_idx3])\n",
    "        aa3.append(data_group3.pMIC.values[i])"
   ]
  },
  {
   "cell_type": "code",
   "execution_count": 19,
   "id": "emotional-accessory",
   "metadata": {},
   "outputs": [],
   "source": [
    "# Store in dataframe\n",
    "d3 = {'query_ID': qu3, 'Similarity': sim3, 'Delta_activity': da3, 'Activity': aa3}\n",
    "df_group3 = pd.DataFrame(data=d3)\n",
    "# Order dataframes by similarity\n",
    "df_group3.sort_values(by='Similarity', inplace=True)"
   ]
  },
  {
   "cell_type": "code",
   "execution_count": 20,
   "id": "christian-combat",
   "metadata": {},
   "outputs": [
    {
     "data": {
      "image/png": "[encoded data removed]",
      "text/plain": [
       "<Figure size 720x216 with 2 Axes>"
      ]
     },
     "metadata": {
      "needs_background": "light"
     },
     "output_type": "display_data"
    }
   ],
   "source": [
    "# Define x\n",
    "x = np.arange(len(df_group3))\n",
    "# Define rescaling\n",
    "rescale = lambda y: (y - np.min(y)) / (np.max(y) - np.min(y))\n",
    "\n",
    "# Create figure object and store it in a variable called 'fig'\n",
    "fig = plt.figure(figsize=(10, 3))\n",
    "\n",
    "# Add axes object to our figure \n",
    "ax = fig.add_subplot(111)\n",
    "\n",
    "# Create bar plot and add line at y = 0\n",
    "ax.bar(x, df_group3.Delta_activity,  \n",
    "       color=cmap(rescale(df_group3.Activity)),\n",
    "       edgecolor=[0.2, 0.2, 0.2])\n",
    "ax.axhline(y=0, linewidth=1, color='k')\n",
    "\n",
    "ax.set_xlabel('Compound')\n",
    "ax.set_ylabel('Activity change')\n",
    "ax.set_xticks(x)\n",
    "ax.set_xlim(-1, 34)\n",
    "ax.set_xticklabels(df_group3.query_ID, rotation=90, fontweight='bold')\n",
    "\n",
    "# Add colorbar\n",
    "sm = ScalarMappable(cmap=cmap, norm=plt.Normalize(df_group3.Activity.min(), df_group3.Activity.max()))\n",
    "sm.set_array([])\n",
    "\n",
    "cbar = plt.colorbar(sm)\n",
    "cbar.set_label('pMIC', rotation=90, labelpad=5)\n",
    "\n",
    "plt.show()"
   ]
  },
  {
   "cell_type": "markdown",
   "id": "incredible-pennsylvania",
   "metadata": {},
   "source": [
    "## TPSA and LogP"
   ]
  },
  {
   "cell_type": "markdown",
   "id": "static-multimedia",
   "metadata": {},
   "source": [
    "Now, a simple analysis of TPSA and cLogP was carried. Those descriptors were calculated using RDKit."
   ]
  },
  {
   "cell_type": "code",
   "execution_count": 21,
   "id": "silent-royalty",
   "metadata": {},
   "outputs": [],
   "source": [
    "# Independent calculation of each descriptor\n",
    "logP = [Descriptors.MolLogP(x) for x in BTZs.mol.values]\n",
    "TPSA = [Descriptors.TPSA(x) for x in BTZs.mol.values]"
   ]
  },
  {
   "cell_type": "code",
   "execution_count": 22,
   "id": "mounted-biodiversity",
   "metadata": {},
   "outputs": [
    {
     "data": {
      "image/png": "[encoded data removed]",
      "text/plain": [
       "<Figure size 432x288 with 2 Axes>"
      ]
     },
     "metadata": {
      "needs_background": "light"
     },
     "output_type": "display_data"
    }
   ],
   "source": [
    "# Create figure object and store it in a variable called 'fig'\n",
    "fig = plt.figure()\n",
    "\n",
    "# Add axes object to our figure \n",
    "ax = fig.add_subplot(111)\n",
    "\n",
    "# Create plot\n",
    "ax.scatter(logP, TPSA, c=BTZs.pMIC, cmap=cmap)\n",
    "\n",
    "# Edit axes\n",
    "ax.set_xlabel('cLogP')\n",
    "ax.set_ylabel(r'TPSA ($\\AA^{2}$)')\n",
    "\n",
    "sm = ScalarMappable(cmap=cmap, norm=plt.Normalize(BTZs.pMIC.min(), BTZs.pMIC.max()))\n",
    "sm.set_array([])\n",
    "\n",
    "cbar = plt.colorbar(sm)\n",
    "cbar.set_label('pMIC', rotation=90)\n",
    "\n",
    "plt.show()\n"
   ]
  },
  {
   "cell_type": "markdown",
   "id": "worse-dispatch",
   "metadata": {},
   "source": [
    "## Presence of Functional Groups"
   ]
  },
  {
   "cell_type": "code",
   "execution_count": 23,
   "id": "outdoor-startup",
   "metadata": {},
   "outputs": [
    {
     "data": {
      "text/plain": [
       "(73, 3)"
      ]
     },
     "execution_count": 23,
     "metadata": {},
     "output_type": "execute_result"
    }
   ],
   "source": [
    "# define patterns to search for using smarts strings\n",
    "smart_patterns = {\n",
    "'phenol': Chem.MolFromSmarts('[OX2H][cX3]:[c]'),\n",
    "'alcohol': Chem.MolFromSmarts('[#6][OX2H]'),\n",
    "'amide': Chem.MolFromSmarts('[NX3][CX3](=[OX1])[#6]'),\n",
    "'carbonyl': Chem.MolFromSmarts('[CX3]=[OX1]'),\n",
    "'acid': Chem.MolFromSmarts('[CX3](=O)[OX2H1]'),\n",
    "'amine': Chem.MolFromSmarts('[N&X3;H2,H1;!$(NC=*)]')\n",
    "}\n",
    "\n",
    "# Run search and store results in dataframe\n",
    "matches = pd.DataFrame(columns=['mol', 'match', 'Class'])\n",
    "for i, mol in enumerate(BTZs.mol.values):\n",
    "    for key, patt in smart_patterns.items():\n",
    "        if mol.HasSubstructMatch(patt):\n",
    "            matches.loc[len(matches)] = [mol, key, BTZs.Class.values[i]]\n",
    "            \n",
    "matches.shape"
   ]
  },
  {
   "cell_type": "code",
   "execution_count": 24,
   "id": "right-progress",
   "metadata": {},
   "outputs": [],
   "source": [
    "# Define labels for functional groups\n",
    "labels = ['phenol', 'alcohol', 'amide', 'carbonyl', 'acid', 'amine']\n",
    "\n",
    "# Separate samples into actives and inactives\n",
    "inac = matches.match[matches.Class == 0].value_counts()\n",
    "ac = matches.match[matches.Class == 1].value_counts()\n",
    "\n",
    "# Create dataframe with information for plotting\n",
    "matches_plot = pd.DataFrame(columns=['inactives', 'actives'], index=labels)\n",
    "for lab in labels:\n",
    "    if lab in inac.index:\n",
    "        val0 = inac[lab]\n",
    "    else:\n",
    "        val0 = 0\n",
    "    if lab in ac.index:\n",
    "        val1 = ac[lab]\n",
    "    else:\n",
    "        val1 = 0\n",
    "        \n",
    "    matches_plot.loc[lab] = [val0, val1]"
   ]
  },
  {
   "cell_type": "code",
   "execution_count": 25,
   "id": "antique-mainstream",
   "metadata": {},
   "outputs": [
    {
     "data": {
      "image/png": "[encoded data removed]",
      "text/plain": [
       "<Figure size 432x288 with 1 Axes>"
      ]
     },
     "metadata": {
      "needs_background": "light"
     },
     "output_type": "display_data"
    }
   ],
   "source": [
    "x = np.arange(len(labels))  # the label locations\n",
    "width = 0.35  # the width of the bars\n",
    "\n",
    "# Create figure object and store it in a variable called 'fig'\n",
    "fig = plt.figure()\n",
    "\n",
    "# Add axes object to our figure \n",
    "ax = fig.add_subplot(111)\n",
    "\n",
    "# Create bar plots\n",
    "rects2 = ax.bar(x - width/2, matches_plot.actives, width, label='Potent', \n",
    "                color=colors2[1], edgecolor=[0.2, 0.2, 0.2])\n",
    "rects1 = ax.bar(x + width/2, matches_plot.inactives, width, label='Non-potent', \n",
    "                color=colors2[0], edgecolor=[0.2, 0.2, 0.2])\n",
    "\n",
    "\n",
    "# Edit axes\n",
    "ax.set_xlabel('Functional group')\n",
    "ax.set_ylabel('Number of compounds')\n",
    "ax.set_xticks(x)\n",
    "ax.set_xticklabels(labels, rotation=90)\n",
    "ax.set_ylim((0, 22))\n",
    "\n",
    "# Add text labels\n",
    "for i in range(len(labels)):\n",
    "    plt.text(x[i] + width/2, matches_plot.inactives.values[i] + 0.4, str(matches_plot.inactives.values[i]),\n",
    "             fontsize=12, ha='center')\n",
    "    plt.text(x[i] - width/2, matches_plot.actives.values[i] + 0.4, str(matches_plot.actives.values[i]),\n",
    "             fontsize=12, ha='center')\n",
    "\n",
    "ax.legend(bbox_to_anchor=(1, 1))\n",
    "\n",
    "plt.show()"
   ]
  },
  {
   "cell_type": "markdown",
   "id": "empirical-winner",
   "metadata": {},
   "source": [
    "## Data mining "
   ]
  },
  {
   "cell_type": "markdown",
   "id": "radical-magnitude",
   "metadata": {},
   "source": [
    "#### Morgan Fingerprints"
   ]
  },
  {
   "cell_type": "code",
   "execution_count": 26,
   "id": "dried-guidance",
   "metadata": {},
   "outputs": [],
   "source": [
    "# Define fingerprints for calculation of Tanimoto distances\n",
    "fps = BTZs_morgan.bv.to_list()\n",
    "\n",
    "# Calculate Tanimoto distances\n",
    "tan_dist = np.zeros((len(fps), len(fps)))\n",
    "for i in range(len(fps)):\n",
    "    for j in range(len(fps)):\n",
    "        tan_dist[i , j] = 1 - DataStructs.TanimotoSimilarity(fps[i], fps[j])"
   ]
  },
  {
   "cell_type": "code",
   "execution_count": 27,
   "id": "cultural-drain",
   "metadata": {},
   "outputs": [],
   "source": [
    "# Run MDS\n",
    "\n",
    "# Instantiate the model\n",
    "mds = MDS(n_components=2, random_state=42, dissimilarity='precomputed')\n",
    "# Apply dimensionality reduction\n",
    "X_2d_tan = mds.fit_transform(tan_dist)"
   ]
  },
  {
   "cell_type": "code",
   "execution_count": 28,
   "id": "supported-indicator",
   "metadata": {},
   "outputs": [
    {
     "data": {
      "image/png": "[encoded data removed]",
      "text/plain": [
       "<Figure size 432x288 with 1 Axes>"
      ]
     },
     "metadata": {
      "needs_background": "light"
     },
     "output_type": "display_data"
    }
   ],
   "source": [
    "# Create figure object and store it in a variable called 'fig'\n",
    "fig = plt.figure()\n",
    "\n",
    "# Add axes object to our figure \n",
    "ax = fig.add_subplot(111)\n",
    "\n",
    "# Create scatter plot\n",
    "for group, color, label in zip([0, 1], colors2, ['Non-potent', 'Potent']):\n",
    "    data = BTZs.copy()\n",
    "    data.reset_index(drop=True, inplace=True)\n",
    "    idx = data[data.Class == group].index    \n",
    "    ax.scatter(X_2d_tan[idx, 0], X_2d_tan[idx, 1], c=color, \n",
    "               s=60, edgecolors=[0.2, 0.2, 0.2], label=label)\n",
    "\n",
    "# Edit axes\n",
    "ax.set_xlabel('MDS1')\n",
    "ax.set_ylabel('MDS2')\n",
    "\n",
    "ax.tick_params(axis='both', labelsize=14)\n",
    "ax.legend(loc=(0, 1.01), ncol=2)\n",
    "\n",
    "plt.show()\n"
   ]
  },
  {
   "cell_type": "markdown",
   "id": "elegant-turtle",
   "metadata": {},
   "source": [
    "#### RDKit Fingerprints"
   ]
  },
  {
   "cell_type": "code",
   "execution_count": 29,
   "id": "peaceful-energy",
   "metadata": {},
   "outputs": [],
   "source": [
    "# Define fingerprints for calculation of Tanimoto distances\n",
    "fps = BTZs_rdkit.bv.to_list()\n",
    "\n",
    "# Calculate Tanimoto distances   \n",
    "tan_dist = np.zeros((len(fps), len(fps)))\n",
    "for i in range(len(fps)):\n",
    "    for j in range(len(fps)):\n",
    "        tan_dist[i , j] = 1 - DataStructs.TanimotoSimilarity(fps[i], fps[j])"
   ]
  },
  {
   "cell_type": "code",
   "execution_count": 30,
   "id": "figured-kidney",
   "metadata": {},
   "outputs": [],
   "source": [
    "# Run MDS\n",
    "\n",
    "# Instantiate the model\n",
    "mds = MDS(n_components=2, random_state=42, dissimilarity='precomputed')\n",
    "# Apply dimensionality reduction\n",
    "X_2d_tan = mds.fit_transform(tan_dist)"
   ]
  },
  {
   "cell_type": "code",
   "execution_count": 31,
   "id": "sustainable-reply",
   "metadata": {},
   "outputs": [
    {
     "data": {
      "image/png": "[encoded data removed]",
      "text/plain": [
       "<Figure size 432x288 with 1 Axes>"
      ]
     },
     "metadata": {
      "needs_background": "light"
     },
     "output_type": "display_data"
    }
   ],
   "source": [
    "# Create figure object and store it in a variable called 'fig'\n",
    "fig = plt.figure()\n",
    "\n",
    "# Add axes object to our figure \n",
    "ax = fig.add_subplot(111)\n",
    "\n",
    "# Create scatter plot\n",
    "for group, color, label in zip([0, 1], colors2, ['Non-potent', 'Potent']):\n",
    "    data = BTZs.copy()\n",
    "    data.reset_index(drop=True, inplace=True)\n",
    "    idx = data[data.Class == group].index    \n",
    "    ax.scatter(X_2d_tan[idx, 0], X_2d_tan[idx, 1], c=color, \n",
    "               s=60, edgecolors=[0.2, 0.2, 0.2], label=label)\n",
    "\n",
    "# Edit axes\n",
    "ax.set_xlabel('MDS1')\n",
    "ax.set_ylabel('MDS2')\n",
    "#ax.set_xlim((-0.5, 0.5))\n",
    "#ax.set_ylim((-0.5, 0.55))\n",
    "\n",
    "ax.tick_params(axis='both', labelsize=14)\n",
    "ax.legend(loc=(0, 1.01), ncol=2)\n",
    "\n",
    "plt.show()\n"
   ]
  },
  {
   "cell_type": "code",
   "execution_count": null,
   "id": "running-brain",
   "metadata": {},
   "outputs": [],
   "source": []
  }
 ],
 "metadata": {
  "kernelspec": {
   "display_name": "Python 3",
   "language": "python",
   "name": "python3"
  },
  "language_info": {
   "codemirror_mode": {
    "name": "ipython",
    "version": 3
   },
   "file_extension": ".py",
   "mimetype": "text/x-python",
   "name": "python",
   "nbconvert_exporter": "python",
   "pygments_lexer": "ipython3",
   "version": "3.6.12"
  }
 },
 "nbformat": 4,
 "nbformat_minor": 5
}
