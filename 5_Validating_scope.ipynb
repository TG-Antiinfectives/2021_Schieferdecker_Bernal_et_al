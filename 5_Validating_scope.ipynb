{
 "cells": [
  {
   "cell_type": "markdown",
   "id": "biological-producer",
   "metadata": {},
   "source": [
    "# <span style='color:blue'> Activity Class Prediction for unseen compounds: model scope validation</span>"
   ]
  },
  {
   "cell_type": "markdown",
   "id": "corrected-education",
   "metadata": {},
   "source": [
    "The present `Jupyter Notebook` contains the evaluation of Applicability Domain for the selected ML classifiers and assessment of their scope using published data sets. "
   ]
  },
  {
   "cell_type": "markdown",
   "id": "graduate-advancement",
   "metadata": {},
   "source": [
    "## Import Essentials"
   ]
  },
  {
   "cell_type": "code",
   "execution_count": 1,
   "id": "stretch-flashing",
   "metadata": {},
   "outputs": [],
   "source": [
    "import numpy as np\n",
    "import pandas as pd\n",
    "import matplotlib.pyplot as plt\n",
    "\n",
    "from sklearn.metrics import confusion_matrix\n",
    "\n",
    "import pickle"
   ]
  },
  {
   "cell_type": "code",
   "execution_count": 2,
   "id": "parallel-spring",
   "metadata": {},
   "outputs": [],
   "source": [
    "# Import functions from customized modules\n",
    "from pathlib import Path\n",
    "import sys\n",
    "\n",
    "PROJECT_DIR = list(Path(\"..\").absolute().parents)[0]\n",
    "sys.path.append(str(PROJECT_DIR) + '/Scripts/')\n",
    "\n",
    "from preprocessing import feature_filt_adv\n",
    "from classification import scoring_new_class\n",
    "from tools import activity_conversion, act_conv_calib, prepare_new_data, compile_summary"
   ]
  },
  {
   "cell_type": "markdown",
   "id": "considerable-headline",
   "metadata": {},
   "source": [
    "## File names and colors"
   ]
  },
  {
   "cell_type": "code",
   "execution_count": 3,
   "id": "intimate-kennedy",
   "metadata": {},
   "outputs": [],
   "source": [
    "# File names and sheet names\n",
    "descriptors_file = './Data/BTZs_full_descriptors_final.xlsx'\n",
    "data_matrix = 'general_data_matrix'\n",
    "desc = 'descriptors'\n",
    "\n",
    "new_compounds = './Data/published_BTZs_data.csv'\n",
    "\n",
    "activity_calib = './Data/Comparison_Mvaccae_vs_TB.xlsx'\n",
    "\n",
    "stats_external = './Results/Statistical_results_reported_BTZs.csv'\n",
    "conf_mat_external = './Results/Confusion_matrix_reported_BTZs.csv'\n",
    "final_report_M5 = './Results/Predictions_for_reported_BTZs_by_M5.xlsx'"
   ]
  },
  {
   "cell_type": "code",
   "execution_count": 4,
   "id": "central-appendix",
   "metadata": {},
   "outputs": [],
   "source": [
    "colors1 = ['#ca0020', '#f4a582', '#92c5de', '#0571b0']"
   ]
  },
  {
   "cell_type": "markdown",
   "id": "operational-header",
   "metadata": {},
   "source": [
    "## Load and prepare data  "
   ]
  },
  {
   "cell_type": "markdown",
   "id": "cellular-brazil",
   "metadata": {},
   "source": [
    "This data frame was obtained during data preparation in Notebook 1. "
   ]
  },
  {
   "cell_type": "code",
   "execution_count": 5,
   "id": "instant-robinson",
   "metadata": {},
   "outputs": [],
   "source": [
    "# Load data set with SMILES\n",
    "BTZs = pd.read_excel(descriptors_file, sheet_name=data_matrix)\n",
    "\n",
    "# Load set of descriptors \n",
    "desc = pd.read_excel(descriptors_file, sheet_name=desc)"
   ]
  },
  {
   "cell_type": "code",
   "execution_count": 6,
   "id": "figured-valuable",
   "metadata": {},
   "outputs": [
    {
     "name": "stdout",
     "output_type": "stream",
     "text": [
      "X descriptors shape (96, 227)\n"
     ]
    }
   ],
   "source": [
    "# Create X data sets from descriptors and molecular fingerprints\n",
    "Xdesc = desc.iloc[:, 1:] \n",
    "print('X descriptors shape {}'.format(Xdesc.shape))"
   ]
  },
  {
   "cell_type": "code",
   "execution_count": 7,
   "id": "liable-mongolia",
   "metadata": {},
   "outputs": [
    {
     "name": "stdout",
     "output_type": "stream",
     "text": [
      "y shape (96,)\n"
     ]
    }
   ],
   "source": [
    "y = BTZs.Class\n",
    "\n",
    "print('y shape {}'.format(y.shape))"
   ]
  },
  {
   "cell_type": "markdown",
   "id": "living-mounting",
   "metadata": {},
   "source": [
    "## Load new, unseen compounds "
   ]
  },
  {
   "cell_type": "code",
   "execution_count": 8,
   "id": "tutorial-tattoo",
   "metadata": {},
   "outputs": [],
   "source": [
    "# load data saved in Notebook 4\n",
    "new_data = pd.read_csv(new_compounds, index_col=0)"
   ]
  },
  {
   "cell_type": "code",
   "execution_count": 9,
   "id": "national-demographic",
   "metadata": {},
   "outputs": [],
   "source": [
    "# Define columns that are not in common, so they can be eliminated\n",
    "exc = [x for x in new_data.columns if x not in set(Xdesc.columns)]"
   ]
  },
  {
   "cell_type": "code",
   "execution_count": 10,
   "id": "private-series",
   "metadata": {},
   "outputs": [
    {
     "name": "stdout",
     "output_type": "stream",
     "text": [
      "(266, 227)\n"
     ]
    }
   ],
   "source": [
    "# Create X and y\n",
    "Xnew = new_data.copy()\n",
    "# Drop those columns from new_data\n",
    "Xnew.drop(columns=exc, inplace=True)\n",
    "\n",
    "# Reorganize column MW to the end\n",
    "cols = Xnew.columns.to_list()\n",
    "cols = cols[1:] + cols[:1]\n",
    "Xnew = Xnew[cols]\n",
    "Xnew.dropna(inplace=True)\n",
    "print(Xnew.shape)"
   ]
  },
  {
   "cell_type": "code",
   "execution_count": 11,
   "id": "reserved-juice",
   "metadata": {},
   "outputs": [
    {
     "name": "stdout",
     "output_type": "stream",
     "text": [
      "227\n"
     ]
    }
   ],
   "source": [
    "# verify\n",
    "c = 0\n",
    "for i, j in zip(Xnew.columns, Xdesc.columns):\n",
    "    if i == j:\n",
    "        c += 1\n",
    "print(c)"
   ]
  },
  {
   "cell_type": "markdown",
   "id": "hourly-friday",
   "metadata": {},
   "source": [
    "## Load data for activity conversion"
   ]
  },
  {
   "cell_type": "code",
   "execution_count": 12,
   "id": "protected-poland",
   "metadata": {},
   "outputs": [],
   "source": [
    "# Load data for correction of activity by regression \n",
    "data_correction_act = pd.read_excel(activity_calib, sheet_name='pMIC_values')"
   ]
  },
  {
   "cell_type": "markdown",
   "id": "listed-tenant",
   "metadata": {},
   "source": [
    "## Load Models"
   ]
  },
  {
   "cell_type": "markdown",
   "id": "legendary-hawaiian",
   "metadata": {},
   "source": [
    "The four selected algorithms are used in subsequent calculations: Random Forest, Support Vector Machines, K-Nearest Neighbohrs, and AdaBoost. The models were instantiated and saved before. "
   ]
  },
  {
   "cell_type": "code",
   "execution_count": 13,
   "id": "opponent-fellowship",
   "metadata": {},
   "outputs": [],
   "source": [
    "# Create a dictionary with the four models previously saved\n",
    "models = {}\n",
    "for label in ['M2', 'M5', 'M37', 'M38']:\n",
    "    with open('./Results/' + label + '.pkl', 'rb') as file:\n",
    "        models[label] = pickle.load(file)"
   ]
  },
  {
   "cell_type": "markdown",
   "id": "precious-crossing",
   "metadata": {},
   "source": [
    "### Filter keeping only relevant *Mycobacteria* strains"
   ]
  },
  {
   "cell_type": "code",
   "execution_count": 14,
   "id": "stone-credits",
   "metadata": {},
   "outputs": [],
   "source": [
    "# Only interested in M. vaccae and Mtb H37Rv. The other will be excluded\n",
    "exc_row = [x for x in new_data.index if new_data.M_species[x][-5:] not in ['accae', 'H37Rv']]"
   ]
  },
  {
   "cell_type": "code",
   "execution_count": 15,
   "id": "quick-medicare",
   "metadata": {},
   "outputs": [
    {
     "data": {
      "text/plain": [
       "(203, 285)"
      ]
     },
     "execution_count": 15,
     "metadata": {},
     "output_type": "execute_result"
    }
   ],
   "source": [
    "new_data.drop(exc_row, inplace=True)\n",
    "new_data.shape"
   ]
  },
  {
   "cell_type": "code",
   "execution_count": 16,
   "id": "further-valuation",
   "metadata": {},
   "outputs": [],
   "source": [
    "# Define columns that are not in common, so they can be eliminated\n",
    "exc_col = [x for x in new_data.columns if x not in set(Xdesc.columns)]"
   ]
  },
  {
   "cell_type": "code",
   "execution_count": 17,
   "id": "behind-boards",
   "metadata": {},
   "outputs": [
    {
     "name": "stdout",
     "output_type": "stream",
     "text": [
      "(203, 227)\n"
     ]
    }
   ],
   "source": [
    "# Create X and y\n",
    "Xnew = new_data.copy()\n",
    "# Drop those columns from new_data\n",
    "Xnew.drop(columns=exc_col, inplace=True)\n",
    "\n",
    "# Reorganize column MW to the end\n",
    "cols = Xnew.columns.to_list()\n",
    "cols = cols[1:] + cols[:1]\n",
    "Xnew = Xnew[cols]\n",
    "Xnew.dropna(inplace=True)\n",
    "print(Xnew.shape)"
   ]
  },
  {
   "cell_type": "code",
   "execution_count": 18,
   "id": "occasional-rescue",
   "metadata": {},
   "outputs": [
    {
     "name": "stdout",
     "output_type": "stream",
     "text": [
      "227\n"
     ]
    }
   ],
   "source": [
    "# verify\n",
    "c = 0\n",
    "for i, j in zip(Xnew.columns, Xdesc.columns):\n",
    "    if i == j:\n",
    "        c += 1\n",
    "print(c)"
   ]
  },
  {
   "cell_type": "markdown",
   "id": "sized-conservative",
   "metadata": {},
   "source": [
    "## Conversion of activity values from *Mtb* to *M. vaccae*"
   ]
  },
  {
   "cell_type": "code",
   "execution_count": 19,
   "id": "basic-morris",
   "metadata": {},
   "outputs": [],
   "source": [
    "# Use customized function to calculated activity values (and classes)\n",
    "_ , calib_corr, stats_MIC_cor, vp = act_conv_calib(data_correction_act)"
   ]
  },
  {
   "cell_type": "code",
   "execution_count": 20,
   "id": "floral-agency",
   "metadata": {},
   "outputs": [
    {
     "data": {
      "text/html": [
       "<div>\n",
       "<style scoped>\n",
       "    .dataframe tbody tr th:only-of-type {\n",
       "        vertical-align: middle;\n",
       "    }\n",
       "\n",
       "    .dataframe tbody tr th {\n",
       "        vertical-align: top;\n",
       "    }\n",
       "\n",
       "    .dataframe thead th {\n",
       "        text-align: right;\n",
       "    }\n",
       "</style>\n",
       "<table border=\"1\" class=\"dataframe\">\n",
       "  <thead>\n",
       "    <tr style=\"text-align: right;\">\n",
       "      <th></th>\n",
       "      <th>R2</th>\n",
       "      <th>RMSE</th>\n",
       "      <th>MAE</th>\n",
       "    </tr>\n",
       "  </thead>\n",
       "  <tbody>\n",
       "    <tr>\n",
       "      <th>0</th>\n",
       "      <td>0.836601</td>\n",
       "      <td>0.539661</td>\n",
       "      <td>0.39025</td>\n",
       "    </tr>\n",
       "  </tbody>\n",
       "</table>\n",
       "</div>"
      ],
      "text/plain": [
       "         R2      RMSE      MAE\n",
       "0  0.836601  0.539661  0.39025"
      ]
     },
     "execution_count": 20,
     "metadata": {},
     "output_type": "execute_result"
    }
   ],
   "source": [
    "# Statistics for the OLS used for activity conversion\n",
    "stats_MIC_cor"
   ]
  },
  {
   "cell_type": "code",
   "execution_count": 21,
   "id": "familiar-trace",
   "metadata": {},
   "outputs": [
    {
     "data": {
      "text/plain": [
       "[1.1069935121192205, -0.1096916557707317]"
      ]
     },
     "execution_count": 21,
     "metadata": {},
     "output_type": "execute_result"
    }
   ],
   "source": [
    "# Slope and intercept from calibration\n",
    "vp"
   ]
  },
  {
   "cell_type": "code",
   "execution_count": 22,
   "id": "suitable-producer",
   "metadata": {},
   "outputs": [
    {
     "data": {
      "text/plain": [
       "<Figure size 432x288 with 0 Axes>"
      ]
     },
     "metadata": {},
     "output_type": "display_data"
    },
    {
     "data": {
      "image/png": "[encoded data removed]",
      "text/plain": [
       "<Figure size 432x360 with 1 Axes>"
      ]
     },
     "metadata": {
      "needs_background": "light"
     },
     "output_type": "display_data"
    }
   ],
   "source": [
    "# Generate a plot \n",
    "plt.figure()\n",
    "fig, ax = plt.subplots(figsize=(6, 5))\n",
    "ax.set_box_aspect(1/1.2)\n",
    "ax.scatter(data_correction_act['Mtb-H37Rv'], data_correction_act['Mvaccae'], s=70, edgecolors=[0.2, 0.2, 0.2])\n",
    "ax.set_xlabel('pMIC against $\\it{Mtb}$-$H_{37}Rv$', fontsize=16, labelpad=10)\n",
    "ax.set_ylabel('pMIC against $\\it{M. vaccae}$', fontsize=16, labelpad=10)\n",
    "ax.tick_params(axis='both', labelsize=14)\n",
    "\n",
    "z = np.polyfit(data_correction_act['Mtb-H37Rv'], data_correction_act['Mvaccae'], 1)\n",
    "p = np.poly1d(z)\n",
    "xx = np.arange(3, 12, 0.5)\n",
    "ax.plot(xx, p(xx), \"--\", c='gray')\n",
    "\n",
    "ax.set_xlim((3.5, 9.5))\n",
    "ax.set_ylim((3.5, 10.5))\n",
    "\n",
    "ax.text(5, 9, '$R^2$ = {}'.format(np.round(stats_MIC_cor.R2.values[0], 4)), fontsize=12)\n",
    "\n",
    "fig.tight_layout()\n",
    "\n",
    "plt.show()"
   ]
  },
  {
   "cell_type": "code",
   "execution_count": 23,
   "id": "dress-ensemble",
   "metadata": {},
   "outputs": [],
   "source": [
    "# Correct activity \n",
    "MIC_cor, newClass = activity_conversion(data_correction_act, new_data)"
   ]
  },
  {
   "cell_type": "code",
   "execution_count": 24,
   "id": "crazy-integral",
   "metadata": {},
   "outputs": [
    {
     "data": {
      "text/plain": [
       "203"
      ]
     },
     "execution_count": 24,
     "metadata": {},
     "output_type": "execute_result"
    }
   ],
   "source": [
    "len(newClass)"
   ]
  },
  {
   "cell_type": "markdown",
   "id": "varied-offer",
   "metadata": {},
   "source": [
    "## AD and predictions with M2"
   ]
  },
  {
   "cell_type": "code",
   "execution_count": 26,
   "id": "stretch-station",
   "metadata": {},
   "outputs": [],
   "source": [
    "# Define parameters for AD methods\n",
    "ad_params = {\n",
    "    'neighbors': 5, \n",
    "    'percentile': 95, \n",
    "    'lev_thr': 3, \n",
    "    }"
   ]
  },
  {
   "cell_type": "code",
   "execution_count": 25,
   "id": "nasty-fifty",
   "metadata": {},
   "outputs": [],
   "source": [
    "# Prepare new data as for training \n",
    "X_train57, y_train57, Xnew_scaled57 = prepare_new_data(Xnew, Xdesc, y, 0.25, 57)"
   ]
  },
  {
   "cell_type": "code",
   "execution_count": 27,
   "id": "dress-patrick",
   "metadata": {},
   "outputs": [],
   "source": [
    "# Create a summary dataframe\n",
    "summary_M2 = compile_summary(models['M2'], X_train57, y_train57, Xnew_scaled57, ad_params, newClass, MIC_cor)"
   ]
  },
  {
   "cell_type": "code",
   "execution_count": 28,
   "id": "dirty-argument",
   "metadata": {},
   "outputs": [],
   "source": [
    "# Evaluate results\n",
    "results_new_M2 = pd.DataFrame(columns=['data', 'AUC', 'Brier', 'BA', 'f1', 'MCC'])\n",
    "tmp = summary_M2[(summary_M2[:, 3] == 1) & (summary_M2[:, 4] == 1)]\n",
    "for lab, inf in zip(['whole', 'far_boundary'], [summary_M2, tmp]):\n",
    "    stats = scoring_new_class(inf[:, 0], inf[:, 1], inf[:, 2])\n",
    "    results_new_M2.loc[len(results_new_M2)] = [lab] + stats"
   ]
  },
  {
   "cell_type": "markdown",
   "id": "specified-finance",
   "metadata": {},
   "source": [
    "## AD and predictions with M5"
   ]
  },
  {
   "cell_type": "code",
   "execution_count": 31,
   "id": "infrared-content",
   "metadata": {},
   "outputs": [],
   "source": [
    "# Prepare data according to the model training\n",
    "X_train31, y_train31, Xnew_scaled31 = prepare_new_data(Xnew, Xdesc, y, 0.25, 31)"
   ]
  },
  {
   "cell_type": "code",
   "execution_count": 32,
   "id": "serial-october",
   "metadata": {},
   "outputs": [],
   "source": [
    "# Create summary dataframe\n",
    "summary_M5 = compile_summary(models['M5'], X_train31, y_train31, Xnew_scaled31, ad_params, newClass, MIC_cor)"
   ]
  },
  {
   "cell_type": "code",
   "execution_count": 33,
   "id": "acceptable-pricing",
   "metadata": {},
   "outputs": [],
   "source": [
    "# Evaluate results\n",
    "results_new_M5 = pd.DataFrame(columns=['data', 'AUC', 'Brier', 'BA', 'f1', 'MCC'])\n",
    "tmp = summary_M5[(summary_M5[:, 3] == 1) & (summary_M5[:, 4] == 1)]\n",
    "for lab, inf in zip(['whole', 'far_boundary'], [summary_M5, tmp]):\n",
    "    stats = scoring_new_class(inf[:, 0], inf[:, 1], inf[:, 2])\n",
    "    results_new_M5.loc[len(results_new_M5)] = [lab] + stats"
   ]
  },
  {
   "cell_type": "markdown",
   "id": "rocky-excellence",
   "metadata": {},
   "source": [
    "## Predictions with M37"
   ]
  },
  {
   "cell_type": "code",
   "execution_count": 34,
   "id": "noted-shark",
   "metadata": {},
   "outputs": [],
   "source": [
    "# Create summary dataframe\n",
    "summary_M37 = compile_summary(models['M37'], X_train57, y_train57, Xnew_scaled57, ad_params, newClass, MIC_cor)"
   ]
  },
  {
   "cell_type": "code",
   "execution_count": 35,
   "id": "little-findings",
   "metadata": {},
   "outputs": [],
   "source": [
    "# Evaluate results\n",
    "results_new_M37 = pd.DataFrame(columns=['data', 'AUC', 'Brier', 'BA', 'f1', 'MCC'])\n",
    "tmp = summary_M37[(summary_M37[:, 3] == 1) & (summary_M37[:, 4] == 1)]\n",
    "for lab, inf in zip(['whole', 'far_boundary'], [summary_M37, tmp]):\n",
    "    stats = scoring_new_class(inf[:, 0], inf[:, 1], inf[:, 2])\n",
    "    results_new_M37.loc[len(results_new_M37)] = [lab] + stats"
   ]
  },
  {
   "cell_type": "markdown",
   "id": "level-calculation",
   "metadata": {},
   "source": [
    "## Predictions with M38"
   ]
  },
  {
   "cell_type": "code",
   "execution_count": 37,
   "id": "assured-mailing",
   "metadata": {},
   "outputs": [],
   "source": [
    "# Create summary dataframe\n",
    "summary_M38 = compile_summary(models['M38'], X_train31, y_train31, Xnew_scaled31, ad_params, newClass, MIC_cor)"
   ]
  },
  {
   "cell_type": "code",
   "execution_count": 38,
   "id": "korean-burst",
   "metadata": {},
   "outputs": [],
   "source": [
    "# Evaluate results\n",
    "results_new_M38 = pd.DataFrame(columns=['data', 'AUC', 'Brier', 'BA', 'f1', 'MCC'])\n",
    "tmp = summary_M38[(summary_M38[:, 3] == 1) & (summary_M38[:, 4] == 1)]\n",
    "for lab, inf in zip(['whole', 'far_boundary'], [summary_M38, tmp]):\n",
    "    stats = scoring_new_class(inf[:, 0], inf[:, 1], inf[:, 2])\n",
    "    results_new_M38.loc[len(results_new_M38)] = [lab] + stats"
   ]
  },
  {
   "cell_type": "markdown",
   "id": "typical-wound",
   "metadata": {},
   "source": [
    "## Comparing statistics for all selected models"
   ]
  },
  {
   "cell_type": "code",
   "execution_count": 39,
   "id": "material-playback",
   "metadata": {},
   "outputs": [],
   "source": [
    "# Add column with label to each dataframe\n",
    "for lab, df in zip(['M2', 'M5', 'M37', 'M38'],\n",
    "                   [results_new_M2, results_new_M5, results_new_M37, results_new_M38]):\n",
    "    df['classifier'] = [lab] * 2"
   ]
  },
  {
   "cell_type": "code",
   "execution_count": 40,
   "id": "necessary-chess",
   "metadata": {},
   "outputs": [],
   "source": [
    "# Bring together all the results\n",
    "global_results = pd.concat((results_new_M2, \n",
    "                            results_new_M5, \n",
    "                            results_new_M37, \n",
    "                            results_new_M38), axis=0)"
   ]
  },
  {
   "cell_type": "code",
   "execution_count": 41,
   "id": "significant-buffalo",
   "metadata": {},
   "outputs": [
    {
     "data": {
      "text/html": [
       "<div>\n",
       "<style scoped>\n",
       "    .dataframe tbody tr th:only-of-type {\n",
       "        vertical-align: middle;\n",
       "    }\n",
       "\n",
       "    .dataframe tbody tr th {\n",
       "        vertical-align: top;\n",
       "    }\n",
       "\n",
       "    .dataframe thead th {\n",
       "        text-align: right;\n",
       "    }\n",
       "</style>\n",
       "<table border=\"1\" class=\"dataframe\">\n",
       "  <thead>\n",
       "    <tr style=\"text-align: right;\">\n",
       "      <th></th>\n",
       "      <th>data</th>\n",
       "      <th>AUC</th>\n",
       "      <th>Brier</th>\n",
       "      <th>BA</th>\n",
       "      <th>f1</th>\n",
       "      <th>MCC</th>\n",
       "      <th>classifier</th>\n",
       "    </tr>\n",
       "  </thead>\n",
       "  <tbody>\n",
       "    <tr>\n",
       "      <th>0</th>\n",
       "      <td>whole</td>\n",
       "      <td>0.587080</td>\n",
       "      <td>0.318809</td>\n",
       "      <td>0.541941</td>\n",
       "      <td>0.476190</td>\n",
       "      <td>0.086031</td>\n",
       "      <td>M2</td>\n",
       "    </tr>\n",
       "    <tr>\n",
       "      <th>1</th>\n",
       "      <td>far_boundary</td>\n",
       "      <td>0.612575</td>\n",
       "      <td>0.293372</td>\n",
       "      <td>0.540807</td>\n",
       "      <td>0.461538</td>\n",
       "      <td>0.085803</td>\n",
       "      <td>M2</td>\n",
       "    </tr>\n",
       "    <tr>\n",
       "      <th>0</th>\n",
       "      <td>whole</td>\n",
       "      <td>0.698446</td>\n",
       "      <td>0.223214</td>\n",
       "      <td>0.697881</td>\n",
       "      <td>0.775330</td>\n",
       "      <td>0.383985</td>\n",
       "      <td>M5</td>\n",
       "    </tr>\n",
       "    <tr>\n",
       "      <th>1</th>\n",
       "      <td>far_boundary</td>\n",
       "      <td>0.746544</td>\n",
       "      <td>0.201123</td>\n",
       "      <td>0.724819</td>\n",
       "      <td>0.803922</td>\n",
       "      <td>0.463257</td>\n",
       "      <td>M5</td>\n",
       "    </tr>\n",
       "    <tr>\n",
       "      <th>0</th>\n",
       "      <td>whole</td>\n",
       "      <td>0.683845</td>\n",
       "      <td>0.245371</td>\n",
       "      <td>0.623629</td>\n",
       "      <td>0.612500</td>\n",
       "      <td>0.242348</td>\n",
       "      <td>M37</td>\n",
       "    </tr>\n",
       "    <tr>\n",
       "      <th>1</th>\n",
       "      <td>far_boundary</td>\n",
       "      <td>0.724955</td>\n",
       "      <td>0.221727</td>\n",
       "      <td>0.658542</td>\n",
       "      <td>0.652632</td>\n",
       "      <td>0.317084</td>\n",
       "      <td>M37</td>\n",
       "    </tr>\n",
       "    <tr>\n",
       "      <th>0</th>\n",
       "      <td>whole</td>\n",
       "      <td>0.696893</td>\n",
       "      <td>0.241848</td>\n",
       "      <td>0.663136</td>\n",
       "      <td>0.676617</td>\n",
       "      <td>0.309168</td>\n",
       "      <td>M38</td>\n",
       "    </tr>\n",
       "    <tr>\n",
       "      <th>1</th>\n",
       "      <td>far_boundary</td>\n",
       "      <td>0.745929</td>\n",
       "      <td>0.213669</td>\n",
       "      <td>0.711160</td>\n",
       "      <td>0.711864</td>\n",
       "      <td>0.414519</td>\n",
       "      <td>M38</td>\n",
       "    </tr>\n",
       "  </tbody>\n",
       "</table>\n",
       "</div>"
      ],
      "text/plain": [
       "           data       AUC     Brier        BA        f1       MCC classifier\n",
       "0         whole  0.587080  0.318809  0.541941  0.476190  0.086031         M2\n",
       "1  far_boundary  0.612575  0.293372  0.540807  0.461538  0.085803         M2\n",
       "0         whole  0.698446  0.223214  0.697881  0.775330  0.383985         M5\n",
       "1  far_boundary  0.746544  0.201123  0.724819  0.803922  0.463257         M5\n",
       "0         whole  0.683845  0.245371  0.623629  0.612500  0.242348        M37\n",
       "1  far_boundary  0.724955  0.221727  0.658542  0.652632  0.317084        M37\n",
       "0         whole  0.696893  0.241848  0.663136  0.676617  0.309168        M38\n",
       "1  far_boundary  0.745929  0.213669  0.711160  0.711864  0.414519        M38"
      ]
     },
     "execution_count": 41,
     "metadata": {},
     "output_type": "execute_result"
    }
   ],
   "source": [
    "global_results"
   ]
  },
  {
   "cell_type": "code",
   "execution_count": 42,
   "id": "dietary-prerequisite",
   "metadata": {},
   "outputs": [],
   "source": [
    "# Export the results\n",
    "global_results.to_csv(stats_external)"
   ]
  },
  {
   "cell_type": "code",
   "execution_count": 43,
   "id": "fuzzy-mailman",
   "metadata": {},
   "outputs": [],
   "source": [
    "# Defina an empty dataframe to store confusion matrixes\n",
    "global_confusion_matrix = pd.DataFrame(columns=['data', 'tn', 'fp', 'fn', 'tp', 'classifier'])\n",
    "\n",
    "# Calculate confusion matrix for each model using both the whole data set and \n",
    "# the reduced data set (after removal of samples close to boundaries)\n",
    "for lab, df in zip(['M2', 'M5', 'M37', 'M38'],\n",
    "                   [summary_M2, summary_M5, summary_M37, summary_M38]):\n",
    "    tn, fp, fn, tp = confusion_matrix(df[:, 0], df[:, 1]).ravel()\n",
    "    global_confusion_matrix.loc[len(global_confusion_matrix)] = ['whole'] + [tn, fp, fn, tp] + [lab]\n",
    "    \n",
    "    tmp = df[(df[:, 3] == 1) & (df[:, 4] == 1)]\n",
    "    tn, fp, fn, tp = confusion_matrix(tmp[:, 0], tmp[:, 1]).ravel()\n",
    "    global_confusion_matrix.loc[len(global_confusion_matrix)] = ['far_boundary'] + [tn, fp, fn, tp] + [lab]"
   ]
  },
  {
   "cell_type": "code",
   "execution_count": 44,
   "id": "neither-gilbert",
   "metadata": {
    "scrolled": true
   },
   "outputs": [
    {
     "data": {
      "text/html": [
       "<div>\n",
       "<style scoped>\n",
       "    .dataframe tbody tr th:only-of-type {\n",
       "        vertical-align: middle;\n",
       "    }\n",
       "\n",
       "    .dataframe tbody tr th {\n",
       "        vertical-align: top;\n",
       "    }\n",
       "\n",
       "    .dataframe thead th {\n",
       "        text-align: right;\n",
       "    }\n",
       "</style>\n",
       "<table border=\"1\" class=\"dataframe\">\n",
       "  <thead>\n",
       "    <tr style=\"text-align: right;\">\n",
       "      <th></th>\n",
       "      <th>data</th>\n",
       "      <th>tn</th>\n",
       "      <th>fp</th>\n",
       "      <th>fn</th>\n",
       "      <th>tp</th>\n",
       "      <th>classifier</th>\n",
       "    </tr>\n",
       "  </thead>\n",
       "  <tbody>\n",
       "    <tr>\n",
       "      <th>0</th>\n",
       "      <td>whole</td>\n",
       "      <td>41</td>\n",
       "      <td>16</td>\n",
       "      <td>61</td>\n",
       "      <td>35</td>\n",
       "      <td>M2</td>\n",
       "    </tr>\n",
       "    <tr>\n",
       "      <th>1</th>\n",
       "      <td>far_boundary</td>\n",
       "      <td>34</td>\n",
       "      <td>13</td>\n",
       "      <td>43</td>\n",
       "      <td>24</td>\n",
       "      <td>M2</td>\n",
       "    </tr>\n",
       "    <tr>\n",
       "      <th>2</th>\n",
       "      <td>whole</td>\n",
       "      <td>39</td>\n",
       "      <td>21</td>\n",
       "      <td>30</td>\n",
       "      <td>88</td>\n",
       "      <td>M5</td>\n",
       "    </tr>\n",
       "    <tr>\n",
       "      <th>3</th>\n",
       "      <td>far_boundary</td>\n",
       "      <td>19</td>\n",
       "      <td>12</td>\n",
       "      <td>8</td>\n",
       "      <td>41</td>\n",
       "      <td>M5</td>\n",
       "    </tr>\n",
       "    <tr>\n",
       "      <th>4</th>\n",
       "      <td>whole</td>\n",
       "      <td>42</td>\n",
       "      <td>15</td>\n",
       "      <td>47</td>\n",
       "      <td>49</td>\n",
       "      <td>M37</td>\n",
       "    </tr>\n",
       "    <tr>\n",
       "      <th>5</th>\n",
       "      <td>far_boundary</td>\n",
       "      <td>31</td>\n",
       "      <td>12</td>\n",
       "      <td>21</td>\n",
       "      <td>31</td>\n",
       "      <td>M37</td>\n",
       "    </tr>\n",
       "    <tr>\n",
       "      <th>6</th>\n",
       "      <td>whole</td>\n",
       "      <td>45</td>\n",
       "      <td>15</td>\n",
       "      <td>50</td>\n",
       "      <td>68</td>\n",
       "      <td>M38</td>\n",
       "    </tr>\n",
       "    <tr>\n",
       "      <th>7</th>\n",
       "      <td>far_boundary</td>\n",
       "      <td>35</td>\n",
       "      <td>9</td>\n",
       "      <td>25</td>\n",
       "      <td>42</td>\n",
       "      <td>M38</td>\n",
       "    </tr>\n",
       "  </tbody>\n",
       "</table>\n",
       "</div>"
      ],
      "text/plain": [
       "           data  tn  fp  fn  tp classifier\n",
       "0         whole  41  16  61  35         M2\n",
       "1  far_boundary  34  13  43  24         M2\n",
       "2         whole  39  21  30  88         M5\n",
       "3  far_boundary  19  12   8  41         M5\n",
       "4         whole  42  15  47  49        M37\n",
       "5  far_boundary  31  12  21  31        M37\n",
       "6         whole  45  15  50  68        M38\n",
       "7  far_boundary  35   9  25  42        M38"
      ]
     },
     "execution_count": 44,
     "metadata": {},
     "output_type": "execute_result"
    }
   ],
   "source": [
    "global_confusion_matrix"
   ]
  },
  {
   "cell_type": "code",
   "execution_count": 45,
   "id": "naked-assignment",
   "metadata": {},
   "outputs": [],
   "source": [
    "# Export the results\n",
    "global_confusion_matrix.to_csv(conf_mat_external)"
   ]
  },
  {
   "cell_type": "code",
   "execution_count": 47,
   "id": "varying-organizer",
   "metadata": {},
   "outputs": [
    {
     "data": {
      "text/plain": [
       "<Figure size 432x288 with 0 Axes>"
      ]
     },
     "metadata": {},
     "output_type": "display_data"
    },
    {
     "data": {
      "image/png": "[encoded data removed]",
      "text/plain": [
       "<Figure size 432x360 with 1 Axes>"
      ]
     },
     "metadata": {
      "needs_background": "light"
     },
     "output_type": "display_data"
    }
   ],
   "source": [
    "# Create a plot of statistical results\n",
    "\n",
    "labels = ['Brier', 'AUC', 'BA', 'f1', 'nMCC']\n",
    "\n",
    "# Reorganize the dataframe\n",
    "stats_plot2 = stats_plot.iloc[:, 1:5]\n",
    "stats_plot2['nMCC'] = (stats_plot.MCC + 1) / 2\n",
    "stats_plot2['Model'] = stats_plot.classifier\n",
    "stats_plot2 = stats_plot2[['Model'] + labels]\n",
    "\n",
    "x1 = np.arange(len(labels))  # the label locations\n",
    "\n",
    "plt.figure()\n",
    "fig, ax = plt.subplots(figsize=(6, 5))\n",
    "rects1 = ax.plot(x1, stats_plot2.iloc[0,1:], linestyle='', color='#d7191c', marker='o', \n",
    "                 markersize=10, markeredgecolor=[0.2, 0.2, 0.2], label=stats_plot2.Model.iloc[0])\n",
    "rects2 = ax.plot(x1, stats_plot2.iloc[1,1:], linestyle='', color='#fdae61', marker='s', \n",
    "                 markersize=9, markeredgecolor=[0.2, 0.2, 0.2], label=stats_plot2.Model.iloc[1])\n",
    "rects3 = ax.plot(x1, stats_plot2.iloc[2,1:], linestyle='', color='#abd9e9', marker='p', \n",
    "                 markersize=11, markeredgecolor=[0.2, 0.2, 0.2], label=stats_plot2.Model.iloc[2])\n",
    "rects4 = ax.plot(x1, stats_plot2.iloc[3,1:], linestyle='', color='#2c7bb6', marker='D', \n",
    "                 markersize=8, markeredgecolor=[0.2, 0.2, 0.2], label=stats_plot2.Model.iloc[3])\n",
    "\n",
    "# Add some text for labels, title and custom x-axis tick labels, etc.\n",
    "ax.set_ylabel('Validation statistics', fontsize=16, labelpad=10)\n",
    "ax.set_xlabel('Metrics', fontsize=16, labelpad=10)\n",
    "ax.set_title('Predictions unseen cmpds')\n",
    "ax.set_xticks(x1)\n",
    "ax.set_xticklabels(labels)\n",
    "ax.tick_params(axis='both', labelsize=14)\n",
    "ax.legend()\n",
    "\n",
    "fig.tight_layout()\n",
    "\n",
    "plt.show()"
   ]
  },
  {
   "cell_type": "markdown",
   "id": "weird-repository",
   "metadata": {},
   "source": [
    "## Final report"
   ]
  },
  {
   "cell_type": "markdown",
   "id": "aging-berlin",
   "metadata": {},
   "source": [
    "Compile information to report in manuscript"
   ]
  },
  {
   "cell_type": "code",
   "execution_count": 48,
   "id": "sweet-touch",
   "metadata": {},
   "outputs": [],
   "source": [
    "# Create names\n",
    "names = new_data.index.values\n",
    "# Run again applicability domain but generate report\n",
    "summary_M5, report_M5 = compile_summary(models['M5'], X_train31, y_train31, Xnew_scaled31, \n",
    "                                             ad_params, newClass, MIC_cor, \n",
    "                                             gen_rep=True, names=names)"
   ]
  },
  {
   "cell_type": "code",
   "execution_count": 49,
   "id": "korean-retirement",
   "metadata": {},
   "outputs": [],
   "source": [
    "rep_act = new_data.loc[names, 'MIC_M'] * 1e6\n",
    "rep_act.reset_index(drop=True, inplace=True)\n",
    "n = new_data.loc[names,['Smiles', 'M_species']].copy()\n",
    "n.reset_index(drop=True, inplace=True)\n",
    "report_M5_to_export = pd.concat((n, \n",
    "                                 rep_act,\n",
    "                                 pd.Series(MIC_cor),\n",
    "                                 report_M5), axis=1)\n",
    "report_M5_to_export.columns = ['Smiles', 'M_species', 'Reported MIC (uM)', 'Transformed MIC (uM)',\n",
    "                               'ID', 'AD', 'Pred class', 'Pred Probability']"
   ]
  },
  {
   "cell_type": "code",
   "execution_count": 50,
   "id": "attached-feedback",
   "metadata": {},
   "outputs": [
    {
     "data": {
      "text/html": [
       "<div>\n",
       "<style scoped>\n",
       "    .dataframe tbody tr th:only-of-type {\n",
       "        vertical-align: middle;\n",
       "    }\n",
       "\n",
       "    .dataframe tbody tr th {\n",
       "        vertical-align: top;\n",
       "    }\n",
       "\n",
       "    .dataframe thead th {\n",
       "        text-align: right;\n",
       "    }\n",
       "</style>\n",
       "<table border=\"1\" class=\"dataframe\">\n",
       "  <thead>\n",
       "    <tr style=\"text-align: right;\">\n",
       "      <th></th>\n",
       "      <th>Smiles</th>\n",
       "      <th>M_species</th>\n",
       "      <th>Reported MIC (uM)</th>\n",
       "      <th>Transformed MIC (uM)</th>\n",
       "      <th>ID</th>\n",
       "      <th>AD</th>\n",
       "      <th>Pred class</th>\n",
       "      <th>Pred Probability</th>\n",
       "    </tr>\n",
       "  </thead>\n",
       "  <tbody>\n",
       "    <tr>\n",
       "      <th>0</th>\n",
       "      <td>O=C1N=C(N2CCN(C/C(C)=N/OC)CC2)SC3=C([N+]([O-])...</td>\n",
       "      <td>MTB H37Rv</td>\n",
       "      <td>0.083127</td>\n",
       "      <td>0.018702</td>\n",
       "      <td>175.0</td>\n",
       "      <td>1.0</td>\n",
       "      <td>1.0</td>\n",
       "      <td>58.67</td>\n",
       "    </tr>\n",
       "    <tr>\n",
       "      <th>1</th>\n",
       "      <td>O=C1N=C(N2CCN(C/C(C)=N/OCC)CC2)SC3=C([N+]([O-]...</td>\n",
       "      <td>MTB H37Rv</td>\n",
       "      <td>0.034849</td>\n",
       "      <td>0.007144</td>\n",
       "      <td>176.0</td>\n",
       "      <td>1.0</td>\n",
       "      <td>1.0</td>\n",
       "      <td>55.06</td>\n",
       "    </tr>\n",
       "    <tr>\n",
       "      <th>2</th>\n",
       "      <td>O=C1N=C(N2CCN(C/C(C)=N/OCC3=CC=CC=C3)CC2)SC4=C...</td>\n",
       "      <td>MTB H37Rv</td>\n",
       "      <td>0.030702</td>\n",
       "      <td>0.006209</td>\n",
       "      <td>177.0</td>\n",
       "      <td>1.0</td>\n",
       "      <td>1.0</td>\n",
       "      <td>77.71</td>\n",
       "    </tr>\n",
       "    <tr>\n",
       "      <th>3</th>\n",
       "      <td>O=C1N=C(N2CCN(CC/C(C)=N/OC)CC2)SC3=C([N+]([O-]...</td>\n",
       "      <td>MTB H37Rv</td>\n",
       "      <td>0.034849</td>\n",
       "      <td>0.007144</td>\n",
       "      <td>178.0</td>\n",
       "      <td>1.0</td>\n",
       "      <td>1.0</td>\n",
       "      <td>53.01</td>\n",
       "    </tr>\n",
       "    <tr>\n",
       "      <th>4</th>\n",
       "      <td>O=C1N=C(N2CCN(CC/C(C)=N/OCC)CC2)SC3=C([N+]([O-...</td>\n",
       "      <td>MTB H37Rv</td>\n",
       "      <td>0.033817</td>\n",
       "      <td>0.006910</td>\n",
       "      <td>179.0</td>\n",
       "      <td>1.0</td>\n",
       "      <td>1.0</td>\n",
       "      <td>54.58</td>\n",
       "    </tr>\n",
       "    <tr>\n",
       "      <th>...</th>\n",
       "      <td>...</td>\n",
       "      <td>...</td>\n",
       "      <td>...</td>\n",
       "      <td>...</td>\n",
       "      <td>...</td>\n",
       "      <td>...</td>\n",
       "      <td>...</td>\n",
       "      <td>...</td>\n",
       "    </tr>\n",
       "    <tr>\n",
       "      <th>198</th>\n",
       "      <td>O=C(C(N12)=C(COC(OC(Cl)C(Cl)(Cl)Cl)=O)CS[C@]2(...</td>\n",
       "      <td>MTB H37Rv</td>\n",
       "      <td>50.000000</td>\n",
       "      <td>22.308962</td>\n",
       "      <td>429.0</td>\n",
       "      <td>0.0</td>\n",
       "      <td>NaN</td>\n",
       "      <td>NaN</td>\n",
       "    </tr>\n",
       "    <tr>\n",
       "      <th>199</th>\n",
       "      <td>O=C(C(N12)=C(COC(N3CCN(C(SC4=C([N+]([O-])=O)C=...</td>\n",
       "      <td>MTB H37Rv</td>\n",
       "      <td>4.630000</td>\n",
       "      <td>1.601491</td>\n",
       "      <td>430.0</td>\n",
       "      <td>0.0</td>\n",
       "      <td>NaN</td>\n",
       "      <td>NaN</td>\n",
       "    </tr>\n",
       "    <tr>\n",
       "      <th>200</th>\n",
       "      <td>O=C(C(N12)=C(CN3CCN(C(SC4=C([N+]([O-])=O)C=C(C...</td>\n",
       "      <td>MTB H37Rv</td>\n",
       "      <td>2.030000</td>\n",
       "      <td>0.642875</td>\n",
       "      <td>431.0</td>\n",
       "      <td>0.0</td>\n",
       "      <td>NaN</td>\n",
       "      <td>NaN</td>\n",
       "    </tr>\n",
       "    <tr>\n",
       "      <th>201</th>\n",
       "      <td>O=C(C(N12)=C(CN3CCN(C(SC4=C([N+]([O-])=O)C=C(C...</td>\n",
       "      <td>MTB H37Rv</td>\n",
       "      <td>100.000000</td>\n",
       "      <td>48.052679</td>\n",
       "      <td>432.0</td>\n",
       "      <td>0.0</td>\n",
       "      <td>NaN</td>\n",
       "      <td>NaN</td>\n",
       "    </tr>\n",
       "    <tr>\n",
       "      <th>202</th>\n",
       "      <td>O=C(C(N12)=C(CN3CCN(C(SC4=C([N+]([O-])=O)C=C(C...</td>\n",
       "      <td>MTB H37Rv</td>\n",
       "      <td>86.800000</td>\n",
       "      <td>41.082734</td>\n",
       "      <td>433.0</td>\n",
       "      <td>0.0</td>\n",
       "      <td>NaN</td>\n",
       "      <td>NaN</td>\n",
       "    </tr>\n",
       "  </tbody>\n",
       "</table>\n",
       "<p>203 rows × 8 columns</p>\n",
       "</div>"
      ],
      "text/plain": [
       "                                                Smiles  M_species  \\\n",
       "0    O=C1N=C(N2CCN(C/C(C)=N/OC)CC2)SC3=C([N+]([O-])...  MTB H37Rv   \n",
       "1    O=C1N=C(N2CCN(C/C(C)=N/OCC)CC2)SC3=C([N+]([O-]...  MTB H37Rv   \n",
       "2    O=C1N=C(N2CCN(C/C(C)=N/OCC3=CC=CC=C3)CC2)SC4=C...  MTB H37Rv   \n",
       "3    O=C1N=C(N2CCN(CC/C(C)=N/OC)CC2)SC3=C([N+]([O-]...  MTB H37Rv   \n",
       "4    O=C1N=C(N2CCN(CC/C(C)=N/OCC)CC2)SC3=C([N+]([O-...  MTB H37Rv   \n",
       "..                                                 ...        ...   \n",
       "198  O=C(C(N12)=C(COC(OC(Cl)C(Cl)(Cl)Cl)=O)CS[C@]2(...  MTB H37Rv   \n",
       "199  O=C(C(N12)=C(COC(N3CCN(C(SC4=C([N+]([O-])=O)C=...  MTB H37Rv   \n",
       "200  O=C(C(N12)=C(CN3CCN(C(SC4=C([N+]([O-])=O)C=C(C...  MTB H37Rv   \n",
       "201  O=C(C(N12)=C(CN3CCN(C(SC4=C([N+]([O-])=O)C=C(C...  MTB H37Rv   \n",
       "202  O=C(C(N12)=C(CN3CCN(C(SC4=C([N+]([O-])=O)C=C(C...  MTB H37Rv   \n",
       "\n",
       "     Reported MIC (uM)  Transformed MIC (uM)     ID   AD  Pred class  \\\n",
       "0             0.083127              0.018702  175.0  1.0         1.0   \n",
       "1             0.034849              0.007144  176.0  1.0         1.0   \n",
       "2             0.030702              0.006209  177.0  1.0         1.0   \n",
       "3             0.034849              0.007144  178.0  1.0         1.0   \n",
       "4             0.033817              0.006910  179.0  1.0         1.0   \n",
       "..                 ...                   ...    ...  ...         ...   \n",
       "198          50.000000             22.308962  429.0  0.0         NaN   \n",
       "199           4.630000              1.601491  430.0  0.0         NaN   \n",
       "200           2.030000              0.642875  431.0  0.0         NaN   \n",
       "201         100.000000             48.052679  432.0  0.0         NaN   \n",
       "202          86.800000             41.082734  433.0  0.0         NaN   \n",
       "\n",
       "     Pred Probability  \n",
       "0               58.67  \n",
       "1               55.06  \n",
       "2               77.71  \n",
       "3               53.01  \n",
       "4               54.58  \n",
       "..                ...  \n",
       "198               NaN  \n",
       "199               NaN  \n",
       "200               NaN  \n",
       "201               NaN  \n",
       "202               NaN  \n",
       "\n",
       "[203 rows x 8 columns]"
      ]
     },
     "execution_count": 50,
     "metadata": {},
     "output_type": "execute_result"
    }
   ],
   "source": [
    "report_M5_to_export"
   ]
  },
  {
   "cell_type": "code",
   "execution_count": 51,
   "id": "frozen-spain",
   "metadata": {},
   "outputs": [],
   "source": [
    "report_M5_to_export.to_excel(final_report_M5)"
   ]
  },
  {
   "cell_type": "code",
   "execution_count": null,
   "id": "subject-organ",
   "metadata": {},
   "outputs": [],
   "source": []
  }
 ],
 "metadata": {
  "kernelspec": {
   "display_name": "Python 3",
   "language": "python",
   "name": "python3"
  },
  "language_info": {
   "codemirror_mode": {
    "name": "ipython",
    "version": 3
   },
   "file_extension": ".py",
   "mimetype": "text/x-python",
   "name": "python",
   "nbconvert_exporter": "python",
   "pygments_lexer": "ipython3",
   "version": "3.6.12"
  }
 },
 "nbformat": 4,
 "nbformat_minor": 5
}
