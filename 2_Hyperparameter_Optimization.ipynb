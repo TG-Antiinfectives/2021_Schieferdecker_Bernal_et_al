{
 "cells": [
  {
   "cell_type": "markdown",
   "id": "wireless-queen",
   "metadata": {},
   "source": [
    "# <span style='color:blue'> Hyperparameter optimization for ML classifiers </span>"
   ]
  },
  {
   "cell_type": "markdown",
   "id": "general-boards",
   "metadata": {},
   "source": [
    "The present `Jupyter Notebook` contains the hyperparamter optimization by randomized search of the ML classifiers implemented."
   ]
  },
  {
   "cell_type": "markdown",
   "id": "continent-smooth",
   "metadata": {},
   "source": [
    "## Import Essentials"
   ]
  },
  {
   "cell_type": "code",
   "execution_count": 1,
   "id": "ceramic-ticket",
   "metadata": {},
   "outputs": [],
   "source": [
    "import numpy as np\n",
    "import pandas as pd\n",
    "import matplotlib.pyplot as plt\n",
    "\n",
    "from sklearn.ensemble import RandomForestClassifier\n",
    "from sklearn.svm import SVC\n",
    "from sklearn.neighbors import KNeighborsClassifier\n",
    "from sklearn.ensemble import AdaBoostClassifier\n",
    "from sklearn.tree import DecisionTreeClassifier\n",
    "from sklearn.linear_model import LogisticRegression\n"
   ]
  },
  {
   "cell_type": "code",
   "execution_count": 2,
   "id": "alpha-mixture",
   "metadata": {},
   "outputs": [],
   "source": [
    "# Import functions from customized modules\n",
    "from pathlib import Path\n",
    "import sys\n",
    "\n",
    "PROJECT_DIR = list(Path(\"..\").absolute().parents)[0]\n",
    "sys.path.append(str(PROJECT_DIR) + '/Scripts/')\n",
    "\n",
    "from preprocessing import create_mol\n",
    "from classification import iter_rand_search"
   ]
  },
  {
   "cell_type": "markdown",
   "id": "accurate-coordinator",
   "metadata": {},
   "source": [
    "## Define file names"
   ]
  },
  {
   "cell_type": "code",
   "execution_count": 3,
   "id": "novel-police",
   "metadata": {},
   "outputs": [],
   "source": [
    "# File names and sheet names\n",
    "descriptors_file = './Data/BTZs_full_descriptors_final.xlsx'\n",
    "data_matrix = 'general_data_matrix'\n",
    "desc = 'descriptors'"
   ]
  },
  {
   "cell_type": "markdown",
   "id": "liberal-version",
   "metadata": {},
   "source": [
    "## Load data  "
   ]
  },
  {
   "cell_type": "code",
   "execution_count": 4,
   "id": "stuffed-stylus",
   "metadata": {},
   "outputs": [],
   "source": [
    "# Load data set with SMILES\n",
    "BTZs = pd.read_excel(descriptors_file, sheet_name=data_matrix)\n",
    "\n",
    "# Load set of descriptors \n",
    "desc = pd.read_excel(descriptors_file, sheet_name=desc)"
   ]
  },
  {
   "cell_type": "code",
   "execution_count": 5,
   "id": "composed-bowling",
   "metadata": {},
   "outputs": [
    {
     "data": {
      "text/plain": [
       "(96, 7)"
      ]
     },
     "execution_count": 5,
     "metadata": {},
     "output_type": "execute_result"
    }
   ],
   "source": [
    "BTZs.shape"
   ]
  },
  {
   "cell_type": "code",
   "execution_count": 6,
   "id": "alone-raising",
   "metadata": {},
   "outputs": [],
   "source": [
    "# Check coincidence between dataframes\n",
    "for i, j in zip(BTZs.iloc[:, 0], desc.iloc[:, 0]):\n",
    "    if i != j:\n",
    "        print('Error')"
   ]
  },
  {
   "cell_type": "markdown",
   "id": "beneficial-corps",
   "metadata": {},
   "source": [
    "#### Calculate Fingerprints\n",
    "\n",
    "Here a locally created function using RDKit is employed."
   ]
  },
  {
   "cell_type": "code",
   "execution_count": 7,
   "id": "champion-white",
   "metadata": {},
   "outputs": [],
   "source": [
    "# Start from the Smiles string stored in BTZs dataframe\n",
    "BTZs_morgan = BTZs.copy()\n",
    "# Apply create_mol\n",
    "create_mol(BTZs_morgan, 'ecfp4', n_bits=2048)"
   ]
  },
  {
   "cell_type": "code",
   "execution_count": 8,
   "id": "south-pitch",
   "metadata": {},
   "outputs": [],
   "source": [
    "# Start from the Smiles string stored in BTZs dataframe\n",
    "BTZs_rdkit = BTZs.copy()\n",
    "# Apply create_mol --> add columns to the dataframe with mol and fp\n",
    "create_mol(BTZs_rdkit, 'rdk5', n_bits=2048)"
   ]
  },
  {
   "cell_type": "markdown",
   "id": "musical-report",
   "metadata": {},
   "source": [
    "#### Prepare data sets"
   ]
  },
  {
   "cell_type": "code",
   "execution_count": 9,
   "id": "exotic-farming",
   "metadata": {},
   "outputs": [
    {
     "name": "stdout",
     "output_type": "stream",
     "text": [
      "X descriptors shape (96, 227)\n",
      "X Morgan shape (96, 2048)\n",
      "X RDKit shape (96, 2048)\n"
     ]
    }
   ],
   "source": [
    "# Create X data sets from descriptors and molecular fingerprints\n",
    "Xdesc = desc.iloc[:, 1:] \n",
    "print('X descriptors shape {}'.format(Xdesc.shape))\n",
    "\n",
    "Xmorg = pd.DataFrame(BTZs_morgan.np_bv.to_list(), index=BTZs_morgan.index)\n",
    "print('X Morgan shape {}'.format(Xmorg.shape))\n",
    "\n",
    "Xrdk = pd.DataFrame(BTZs_rdkit.np_bv.to_list(), index=BTZs_rdkit.index)\n",
    "print('X RDKit shape {}'.format(Xrdk.shape))"
   ]
  },
  {
   "cell_type": "code",
   "execution_count": 10,
   "id": "supposed-thesis",
   "metadata": {},
   "outputs": [
    {
     "name": "stdout",
     "output_type": "stream",
     "text": [
      "y shape (96,)\n"
     ]
    }
   ],
   "source": [
    "y = BTZs.Class\n",
    "\n",
    "print('y shape {}'.format(y.shape))"
   ]
  },
  {
   "cell_type": "markdown",
   "id": "afraid-wellington",
   "metadata": {},
   "source": [
    "## Hyperparameter optimization "
   ]
  },
  {
   "cell_type": "markdown",
   "id": "floppy-flush",
   "metadata": {},
   "source": [
    "Three different random seeds were used for splitting the data set into training and test set and training the models."
   ]
  },
  {
   "cell_type": "code",
   "execution_count": 11,
   "id": "featured-difference",
   "metadata": {},
   "outputs": [],
   "source": [
    "# Define a list of random seeds\n",
    "seed = [57, 31, 86]"
   ]
  },
  {
   "cell_type": "code",
   "execution_count": 12,
   "id": "alert-martial",
   "metadata": {},
   "outputs": [],
   "source": [
    "# Define base models\n",
    "model_rf = RandomForestClassifier(random_state=21)\n",
    "model_knn = KNeighborsClassifier()\n",
    "model_svm = SVC()\n",
    "model_ada = AdaBoostClassifier(random_state=21)"
   ]
  },
  {
   "cell_type": "code",
   "execution_count": 13,
   "id": "yellow-biodiversity",
   "metadata": {},
   "outputs": [],
   "source": [
    "# Define hyperparamaters to optimize for RF\n",
    "param_rf = {'n_estimators': np.linspace(5, 1000, 200).astype('int'), \n",
    "            'min_samples_split': np.linspace(2, 16, 15).astype('int'),\n",
    "            'min_samples_leaf': np.linspace(1, 10, 10).astype('int'),\n",
    "            'max_features': np.linspace(0.05, 1, 20).astype('float')}\n"
   ]
  },
  {
   "cell_type": "code",
   "execution_count": 14,
   "id": "unsigned-lingerie",
   "metadata": {},
   "outputs": [],
   "source": [
    "# Define hyperparamaters to optimize for kNN\n",
    "param_knn = {'n_neighbors': np.linspace(1, 20, 20).astype('int'),\n",
    "             'leaf_size': np.linspace(1, 10, 10).astype('int'),\n",
    "             'algorithm': ['auto', 'ball_tree', 'kd_tree', 'brute'],\n",
    "             'weights': ['uniform', 'distance']}"
   ]
  },
  {
   "cell_type": "code",
   "execution_count": 15,
   "id": "utility-thumb",
   "metadata": {},
   "outputs": [],
   "source": [
    "# Define hyperparamaters to optimize for SVM\n",
    "param_svm = {'kernel': ['linear', 'poly', 'rbf', 'sigmoid'], \n",
    "             'gamma': [1e-6, 1e-5, 1e-4, 1e-3, 1e-2, 1e-1, 1],\n",
    "             'C': np.linspace(1, 100, 46).astype('float')/10}\n"
   ]
  },
  {
   "cell_type": "code",
   "execution_count": 16,
   "id": "protecting-diana",
   "metadata": {},
   "outputs": [],
   "source": [
    "# Define hyperparamaters to optimize for AdaBoost\n",
    "e0 = DecisionTreeClassifier(max_depth=1, random_state=21)\n",
    "e1 = DecisionTreeClassifier(max_depth=2, random_state=21)\n",
    "e2 = DecisionTreeClassifier(max_depth=3, random_state=21)\n",
    "e3 = LogisticRegression(penalty='none', random_state=21)\n",
    "e4 = LogisticRegression(penalty='l2', random_state=21)\n",
    "\n",
    "\n",
    "param_ada = {'n_estimators': np.linspace(5, 500, 100).astype('int'), \n",
    "             'learning_rate': np.concatenate((np.linspace(0.1, 2.1, 21), \n",
    "                              np.linspace(0.001, 0.1, 31)), axis=0).astype('float'),\n",
    "             'base_estimator': [e0, e1, e2, e3, e4]}\n"
   ]
  },
  {
   "cell_type": "code",
   "execution_count": 17,
   "id": "gorgeous-swift",
   "metadata": {},
   "outputs": [],
   "source": [
    "# Compile data sets\n",
    "features = {}\n",
    "features['label'] = ['desc', 'morgan', 'rdkit']\n",
    "features['values'] = [Xdesc, Xmorg, Xrdk]\n",
    "features['preprocessing'] = ['filter', 'split', 'split']"
   ]
  },
  {
   "cell_type": "code",
   "execution_count": 18,
   "id": "clinical-blocking",
   "metadata": {},
   "outputs": [],
   "source": [
    "# Compile models and dictionaries with hyperparameters for search\n",
    "models = {}\n",
    "models['label'] = ['rf', 'knn', 'svm', 'ada']\n",
    "models['algorithm'] = [model_rf, model_knn, model_svm, model_ada]\n",
    "models['hyperparameters'] = [param_rf, param_knn, param_svm, param_ada]\n",
    "models['iterations'] = [2000, 1200, 1000, 2000]"
   ]
  },
  {
   "cell_type": "code",
   "execution_count": 20,
   "id": "nutritional-eugene",
   "metadata": {},
   "outputs": [
    {
     "name": "stdout",
     "output_type": "stream",
     "text": [
      "Running rf with desc\n",
      "Fitting 15 folds for each of 2000 candidates, totalling 30000 fits\n"
     ]
    },
    {
     "name": "stderr",
     "output_type": "stream",
     "text": [
      "[Parallel(n_jobs=-1)]: Using backend LokyBackend with 64 concurrent workers.\n",
      "[Parallel(n_jobs=-1)]: Done  72 tasks      | elapsed:    2.9s\n",
      "[Parallel(n_jobs=-1)]: Done 322 tasks      | elapsed:    7.3s\n",
      "[Parallel(n_jobs=-1)]: Done 672 tasks      | elapsed:   12.6s\n",
      "[Parallel(n_jobs=-1)]: Done 1122 tasks      | elapsed:   20.9s\n",
      "[Parallel(n_jobs=-1)]: Done 1672 tasks      | elapsed:   32.4s\n",
      "[Parallel(n_jobs=-1)]: Done 2322 tasks      | elapsed:   44.3s\n",
      "[Parallel(n_jobs=-1)]: Done 3072 tasks      | elapsed:   56.6s\n",
      "[Parallel(n_jobs=-1)]: Done 3922 tasks      | elapsed:  1.2min\n",
      "[Parallel(n_jobs=-1)]: Done 4872 tasks      | elapsed:  1.5min\n",
      "[Parallel(n_jobs=-1)]: Done 5922 tasks      | elapsed:  1.9min\n",
      "[Parallel(n_jobs=-1)]: Done 7072 tasks      | elapsed:  2.3min\n",
      "[Parallel(n_jobs=-1)]: Done 8322 tasks      | elapsed:  2.6min\n",
      "[Parallel(n_jobs=-1)]: Done 9672 tasks      | elapsed:  3.1min\n",
      "[Parallel(n_jobs=-1)]: Done 11122 tasks      | elapsed:  3.5min\n",
      "[Parallel(n_jobs=-1)]: Done 12672 tasks      | elapsed:  4.0min\n",
      "[Parallel(n_jobs=-1)]: Done 14322 tasks      | elapsed:  4.5min\n",
      "[Parallel(n_jobs=-1)]: Done 16072 tasks      | elapsed:  5.1min\n",
      "[Parallel(n_jobs=-1)]: Done 17922 tasks      | elapsed:  5.7min\n",
      "[Parallel(n_jobs=-1)]: Done 19872 tasks      | elapsed:  6.3min\n",
      "[Parallel(n_jobs=-1)]: Done 21922 tasks      | elapsed:  7.0min\n",
      "[Parallel(n_jobs=-1)]: Done 24072 tasks      | elapsed:  7.7min\n",
      "[Parallel(n_jobs=-1)]: Done 26322 tasks      | elapsed:  8.4min\n",
      "[Parallel(n_jobs=-1)]: Done 28672 tasks      | elapsed:  9.1min\n",
      "[Parallel(n_jobs=-1)]: Done 30000 out of 30000 | elapsed:  9.6min finished\n"
     ]
    },
    {
     "name": "stdout",
     "output_type": "stream",
     "text": [
      "Fitting 15 folds for each of 2000 candidates, totalling 30000 fits\n"
     ]
    },
    {
     "name": "stderr",
     "output_type": "stream",
     "text": [
      "[Parallel(n_jobs=-1)]: Using backend LokyBackend with 64 concurrent workers.\n",
      "[Parallel(n_jobs=-1)]: Done  72 tasks      | elapsed:    2.8s\n",
      "[Parallel(n_jobs=-1)]: Done 322 tasks      | elapsed:    7.2s\n",
      "[Parallel(n_jobs=-1)]: Done 672 tasks      | elapsed:   12.8s\n",
      "[Parallel(n_jobs=-1)]: Done 1122 tasks      | elapsed:   21.4s\n",
      "[Parallel(n_jobs=-1)]: Done 1672 tasks      | elapsed:   33.1s\n",
      "[Parallel(n_jobs=-1)]: Done 2322 tasks      | elapsed:   45.2s\n",
      "[Parallel(n_jobs=-1)]: Done 3072 tasks      | elapsed:   57.7s\n",
      "[Parallel(n_jobs=-1)]: Done 3922 tasks      | elapsed:  1.2min\n",
      "[Parallel(n_jobs=-1)]: Done 4872 tasks      | elapsed:  1.5min\n",
      "[Parallel(n_jobs=-1)]: Done 5922 tasks      | elapsed:  1.9min\n",
      "[Parallel(n_jobs=-1)]: Done 7072 tasks      | elapsed:  2.3min\n",
      "[Parallel(n_jobs=-1)]: Done 8322 tasks      | elapsed:  2.7min\n",
      "[Parallel(n_jobs=-1)]: Done 9672 tasks      | elapsed:  3.1min\n",
      "[Parallel(n_jobs=-1)]: Done 11122 tasks      | elapsed:  3.5min\n",
      "[Parallel(n_jobs=-1)]: Done 12672 tasks      | elapsed:  4.0min\n",
      "[Parallel(n_jobs=-1)]: Done 14322 tasks      | elapsed:  4.5min\n",
      "[Parallel(n_jobs=-1)]: Done 16072 tasks      | elapsed:  5.1min\n",
      "[Parallel(n_jobs=-1)]: Done 17922 tasks      | elapsed:  5.7min\n",
      "[Parallel(n_jobs=-1)]: Done 19872 tasks      | elapsed:  6.4min\n",
      "[Parallel(n_jobs=-1)]: Done 21922 tasks      | elapsed:  7.1min\n",
      "[Parallel(n_jobs=-1)]: Done 24072 tasks      | elapsed:  7.7min\n",
      "[Parallel(n_jobs=-1)]: Done 26322 tasks      | elapsed:  8.5min\n",
      "[Parallel(n_jobs=-1)]: Done 28672 tasks      | elapsed:  9.2min\n",
      "[Parallel(n_jobs=-1)]: Done 30000 out of 30000 | elapsed:  9.6min finished\n"
     ]
    },
    {
     "name": "stdout",
     "output_type": "stream",
     "text": [
      "Fitting 15 folds for each of 2000 candidates, totalling 30000 fits\n"
     ]
    },
    {
     "name": "stderr",
     "output_type": "stream",
     "text": [
      "[Parallel(n_jobs=-1)]: Using backend LokyBackend with 64 concurrent workers.\n",
      "[Parallel(n_jobs=-1)]: Done  72 tasks      | elapsed:    2.9s\n",
      "[Parallel(n_jobs=-1)]: Done 322 tasks      | elapsed:    7.2s\n",
      "[Parallel(n_jobs=-1)]: Done 672 tasks      | elapsed:   12.9s\n",
      "[Parallel(n_jobs=-1)]: Done 1122 tasks      | elapsed:   21.4s\n",
      "[Parallel(n_jobs=-1)]: Done 1672 tasks      | elapsed:   33.2s\n",
      "[Parallel(n_jobs=-1)]: Done 2322 tasks      | elapsed:   45.5s\n",
      "[Parallel(n_jobs=-1)]: Done 3072 tasks      | elapsed:   58.0s\n",
      "[Parallel(n_jobs=-1)]: Done 3922 tasks      | elapsed:  1.2min\n",
      "[Parallel(n_jobs=-1)]: Done 4872 tasks      | elapsed:  1.5min\n",
      "[Parallel(n_jobs=-1)]: Done 5922 tasks      | elapsed:  1.9min\n",
      "[Parallel(n_jobs=-1)]: Done 7072 tasks      | elapsed:  2.3min\n",
      "[Parallel(n_jobs=-1)]: Done 8322 tasks      | elapsed:  2.7min\n",
      "[Parallel(n_jobs=-1)]: Done 9672 tasks      | elapsed:  3.1min\n",
      "[Parallel(n_jobs=-1)]: Done 11122 tasks      | elapsed:  3.6min\n",
      "[Parallel(n_jobs=-1)]: Done 12672 tasks      | elapsed:  4.0min\n",
      "[Parallel(n_jobs=-1)]: Done 14322 tasks      | elapsed:  4.6min\n",
      "[Parallel(n_jobs=-1)]: Done 16072 tasks      | elapsed:  5.1min\n",
      "[Parallel(n_jobs=-1)]: Done 17922 tasks      | elapsed:  5.7min\n",
      "[Parallel(n_jobs=-1)]: Done 19872 tasks      | elapsed:  6.4min\n",
      "[Parallel(n_jobs=-1)]: Done 21922 tasks      | elapsed:  7.1min\n",
      "[Parallel(n_jobs=-1)]: Done 24072 tasks      | elapsed:  7.7min\n",
      "[Parallel(n_jobs=-1)]: Done 26322 tasks      | elapsed:  8.5min\n",
      "[Parallel(n_jobs=-1)]: Done 28672 tasks      | elapsed:  9.2min\n",
      "[Parallel(n_jobs=-1)]: Done 30000 out of 30000 | elapsed:  9.7min finished\n"
     ]
    },
    {
     "name": "stdout",
     "output_type": "stream",
     "text": [
      "Running knn with desc\n",
      "Fitting 15 folds for each of 1200 candidates, totalling 18000 fits\n"
     ]
    },
    {
     "name": "stderr",
     "output_type": "stream",
     "text": [
      "[Parallel(n_jobs=-1)]: Using backend LokyBackend with 64 concurrent workers.\n",
      "[Parallel(n_jobs=-1)]: Done  72 tasks      | elapsed:    0.3s\n",
      "[Parallel(n_jobs=-1)]: Done 516 tasks      | elapsed:    1.2s\n",
      "[Parallel(n_jobs=-1)]: Done 1216 tasks      | elapsed:    2.4s\n",
      "[Parallel(n_jobs=-1)]: Done 2116 tasks      | elapsed:    3.7s\n",
      "[Parallel(n_jobs=-1)]: Done 3216 tasks      | elapsed:    5.4s\n",
      "[Parallel(n_jobs=-1)]: Done 4516 tasks      | elapsed:    7.4s\n",
      "[Parallel(n_jobs=-1)]: Done 6016 tasks      | elapsed:    9.5s\n",
      "[Parallel(n_jobs=-1)]: Done 7716 tasks      | elapsed:   11.9s\n",
      "[Parallel(n_jobs=-1)]: Done 9616 tasks      | elapsed:   14.6s\n",
      "[Parallel(n_jobs=-1)]: Done 11716 tasks      | elapsed:   17.8s\n",
      "[Parallel(n_jobs=-1)]: Done 18000 out of 18000 | elapsed:   21.4s finished\n"
     ]
    },
    {
     "name": "stdout",
     "output_type": "stream",
     "text": [
      "Fitting 15 folds for each of 1200 candidates, totalling 18000 fits\n"
     ]
    },
    {
     "name": "stderr",
     "output_type": "stream",
     "text": [
      "[Parallel(n_jobs=-1)]: Using backend LokyBackend with 64 concurrent workers.\n",
      "[Parallel(n_jobs=-1)]: Done  72 tasks      | elapsed:    0.3s\n",
      "[Parallel(n_jobs=-1)]: Done 516 tasks      | elapsed:    1.2s\n",
      "[Parallel(n_jobs=-1)]: Done 1216 tasks      | elapsed:    2.3s\n",
      "[Parallel(n_jobs=-1)]: Done 2116 tasks      | elapsed:    3.6s\n",
      "[Parallel(n_jobs=-1)]: Done 3216 tasks      | elapsed:    5.1s\n",
      "[Parallel(n_jobs=-1)]: Done 4516 tasks      | elapsed:    7.0s\n",
      "[Parallel(n_jobs=-1)]: Done 6016 tasks      | elapsed:    9.3s\n",
      "[Parallel(n_jobs=-1)]: Done 7716 tasks      | elapsed:   11.8s\n",
      "[Parallel(n_jobs=-1)]: Done 9616 tasks      | elapsed:   14.6s\n",
      "[Parallel(n_jobs=-1)]: Done 11716 tasks      | elapsed:   17.8s\n",
      "[Parallel(n_jobs=-1)]: Done 14016 tasks      | elapsed:   21.0s\n",
      "[Parallel(n_jobs=-1)]: Done 16516 tasks      | elapsed:   24.6s\n",
      "[Parallel(n_jobs=-1)]: Done 18000 out of 18000 | elapsed:   26.5s finished\n"
     ]
    },
    {
     "name": "stdout",
     "output_type": "stream",
     "text": [
      "Fitting 15 folds for each of 1200 candidates, totalling 18000 fits\n"
     ]
    },
    {
     "name": "stderr",
     "output_type": "stream",
     "text": [
      "[Parallel(n_jobs=-1)]: Using backend LokyBackend with 64 concurrent workers.\n",
      "[Parallel(n_jobs=-1)]: Done  72 tasks      | elapsed:    0.4s\n",
      "[Parallel(n_jobs=-1)]: Done 516 tasks      | elapsed:    1.1s\n",
      "[Parallel(n_jobs=-1)]: Done 1216 tasks      | elapsed:    2.2s\n",
      "[Parallel(n_jobs=-1)]: Done 2116 tasks      | elapsed:    3.4s\n",
      "[Parallel(n_jobs=-1)]: Done 3216 tasks      | elapsed:    5.0s\n",
      "[Parallel(n_jobs=-1)]: Done 4808 tasks      | elapsed:    7.1s\n",
      "[Parallel(n_jobs=-1)]: Done 7808 tasks      | elapsed:    9.7s\n",
      "[Parallel(n_jobs=-1)]: Done 11208 tasks      | elapsed:   12.7s\n",
      "[Parallel(n_jobs=-1)]: Done 15008 tasks      | elapsed:   16.0s\n",
      "[Parallel(n_jobs=-1)]: Done 18000 out of 18000 | elapsed:   18.4s finished\n"
     ]
    },
    {
     "name": "stdout",
     "output_type": "stream",
     "text": [
      "Running svm with desc\n",
      "Fitting 15 folds for each of 1000 candidates, totalling 15000 fits\n"
     ]
    },
    {
     "name": "stderr",
     "output_type": "stream",
     "text": [
      "[Parallel(n_jobs=-1)]: Using backend LokyBackend with 64 concurrent workers.\n",
      "[Parallel(n_jobs=-1)]: Done  72 tasks      | elapsed:    0.3s\n",
      "[Parallel(n_jobs=-1)]: Done 516 tasks      | elapsed:    1.2s\n",
      "[Parallel(n_jobs=-1)]: Done 1216 tasks      | elapsed:    2.2s\n",
      "[Parallel(n_jobs=-1)]: Done 2116 tasks      | elapsed:    3.7s\n",
      "[Parallel(n_jobs=-1)]: Done 3216 tasks      | elapsed:    5.4s\n",
      "[Parallel(n_jobs=-1)]: Done 4516 tasks      | elapsed:    7.4s\n",
      "[Parallel(n_jobs=-1)]: Done 6016 tasks      | elapsed:    9.8s\n",
      "[Parallel(n_jobs=-1)]: Done 7716 tasks      | elapsed:   12.6s\n",
      "[Parallel(n_jobs=-1)]: Done 9616 tasks      | elapsed:   15.5s\n",
      "[Parallel(n_jobs=-1)]: Done 11716 tasks      | elapsed:   18.6s\n",
      "[Parallel(n_jobs=-1)]: Done 15000 out of 15000 | elapsed:   21.7s finished\n"
     ]
    },
    {
     "name": "stdout",
     "output_type": "stream",
     "text": [
      "Fitting 15 folds for each of 1000 candidates, totalling 15000 fits\n"
     ]
    },
    {
     "name": "stderr",
     "output_type": "stream",
     "text": [
      "[Parallel(n_jobs=-1)]: Using backend LokyBackend with 64 concurrent workers.\n",
      "[Parallel(n_jobs=-1)]: Done  72 tasks      | elapsed:    0.5s\n",
      "[Parallel(n_jobs=-1)]: Done 516 tasks      | elapsed:    1.4s\n",
      "[Parallel(n_jobs=-1)]: Done 1216 tasks      | elapsed:    2.4s\n",
      "[Parallel(n_jobs=-1)]: Done 2116 tasks      | elapsed:    3.8s\n",
      "[Parallel(n_jobs=-1)]: Done 3216 tasks      | elapsed:    5.6s\n",
      "[Parallel(n_jobs=-1)]: Done 4516 tasks      | elapsed:    7.5s\n",
      "[Parallel(n_jobs=-1)]: Done 6016 tasks      | elapsed:    9.9s\n",
      "[Parallel(n_jobs=-1)]: Done 7716 tasks      | elapsed:   12.3s\n",
      "[Parallel(n_jobs=-1)]: Done 9616 tasks      | elapsed:   15.3s\n",
      "[Parallel(n_jobs=-1)]: Done 11716 tasks      | elapsed:   18.5s\n",
      "[Parallel(n_jobs=-1)]: Done 15000 out of 15000 | elapsed:   22.4s finished\n"
     ]
    },
    {
     "name": "stdout",
     "output_type": "stream",
     "text": [
      "Fitting 15 folds for each of 1000 candidates, totalling 15000 fits\n"
     ]
    },
    {
     "name": "stderr",
     "output_type": "stream",
     "text": [
      "[Parallel(n_jobs=-1)]: Using backend LokyBackend with 64 concurrent workers.\n",
      "[Parallel(n_jobs=-1)]: Done  72 tasks      | elapsed:    0.4s\n",
      "[Parallel(n_jobs=-1)]: Done 516 tasks      | elapsed:    1.4s\n",
      "[Parallel(n_jobs=-1)]: Done 1408 tasks      | elapsed:    2.5s\n",
      "[Parallel(n_jobs=-1)]: Done 3208 tasks      | elapsed:    4.1s\n",
      "[Parallel(n_jobs=-1)]: Done 5408 tasks      | elapsed:    6.0s\n",
      "[Parallel(n_jobs=-1)]: Done 8008 tasks      | elapsed:    8.5s\n",
      "[Parallel(n_jobs=-1)]: Done 11008 tasks      | elapsed:   11.2s\n",
      "[Parallel(n_jobs=-1)]: Done 14408 tasks      | elapsed:   14.5s\n",
      "[Parallel(n_jobs=-1)]: Done 15000 out of 15000 | elapsed:   14.9s finished\n"
     ]
    },
    {
     "name": "stdout",
     "output_type": "stream",
     "text": [
      "Running ada with desc\n",
      "Fitting 15 folds for each of 2000 candidates, totalling 30000 fits\n"
     ]
    },
    {
     "name": "stderr",
     "output_type": "stream",
     "text": [
      "[Parallel(n_jobs=-1)]: Using backend LokyBackend with 64 concurrent workers.\n",
      "[Parallel(n_jobs=-1)]: Done  72 tasks      | elapsed:    0.7s\n",
      "[Parallel(n_jobs=-1)]: Done 516 tasks      | elapsed:    3.8s\n",
      "[Parallel(n_jobs=-1)]: Done 992 tasks      | elapsed:   10.4s\n",
      "[Parallel(n_jobs=-1)]: Done 1442 tasks      | elapsed:   16.5s\n",
      "[Parallel(n_jobs=-1)]: Done 1992 tasks      | elapsed:   22.7s\n",
      "[Parallel(n_jobs=-1)]: Done 2642 tasks      | elapsed:   29.8s\n",
      "[Parallel(n_jobs=-1)]: Done 3392 tasks      | elapsed:   37.0s\n",
      "[Parallel(n_jobs=-1)]: Done 4242 tasks      | elapsed:   47.0s\n",
      "[Parallel(n_jobs=-1)]: Done 5192 tasks      | elapsed:   59.6s\n",
      "[Parallel(n_jobs=-1)]: Done 6242 tasks      | elapsed:  1.2min\n",
      "[Parallel(n_jobs=-1)]: Done 7392 tasks      | elapsed:  1.4min\n",
      "[Parallel(n_jobs=-1)]: Done 8642 tasks      | elapsed:  1.6min\n",
      "[Parallel(n_jobs=-1)]: Done 9992 tasks      | elapsed:  1.8min\n",
      "[Parallel(n_jobs=-1)]: Done 11442 tasks      | elapsed:  2.1min\n",
      "[Parallel(n_jobs=-1)]: Done 12992 tasks      | elapsed:  2.4min\n",
      "[Parallel(n_jobs=-1)]: Done 14642 tasks      | elapsed:  2.7min\n",
      "[Parallel(n_jobs=-1)]: Done 16392 tasks      | elapsed:  3.0min\n",
      "[Parallel(n_jobs=-1)]: Done 18242 tasks      | elapsed:  3.3min\n",
      "[Parallel(n_jobs=-1)]: Done 20192 tasks      | elapsed:  3.7min\n",
      "[Parallel(n_jobs=-1)]: Done 22242 tasks      | elapsed:  4.1min\n",
      "[Parallel(n_jobs=-1)]: Done 24392 tasks      | elapsed:  4.5min\n",
      "[Parallel(n_jobs=-1)]: Done 26642 tasks      | elapsed:  4.9min\n",
      "[Parallel(n_jobs=-1)]: Done 28992 tasks      | elapsed:  5.4min\n",
      "[Parallel(n_jobs=-1)]: Done 30000 out of 30000 | elapsed:  5.6min finished\n"
     ]
    },
    {
     "name": "stdout",
     "output_type": "stream",
     "text": [
      "Fitting 15 folds for each of 2000 candidates, totalling 30000 fits\n"
     ]
    },
    {
     "name": "stderr",
     "output_type": "stream",
     "text": [
      "[Parallel(n_jobs=-1)]: Using backend LokyBackend with 64 concurrent workers.\n",
      "[Parallel(n_jobs=-1)]: Done  72 tasks      | elapsed:    0.6s\n",
      "[Parallel(n_jobs=-1)]: Done 516 tasks      | elapsed:    3.3s\n",
      "[Parallel(n_jobs=-1)]: Done 1056 tasks      | elapsed:   10.2s\n",
      "[Parallel(n_jobs=-1)]: Done 1506 tasks      | elapsed:   15.2s\n",
      "[Parallel(n_jobs=-1)]: Done 2056 tasks      | elapsed:   20.0s\n",
      "[Parallel(n_jobs=-1)]: Done 2706 tasks      | elapsed:   27.0s\n",
      "[Parallel(n_jobs=-1)]: Done 3456 tasks      | elapsed:   33.0s\n",
      "[Parallel(n_jobs=-1)]: Done 4306 tasks      | elapsed:   43.4s\n",
      "[Parallel(n_jobs=-1)]: Done 5256 tasks      | elapsed:   53.7s\n",
      "[Parallel(n_jobs=-1)]: Done 6306 tasks      | elapsed:  1.1min\n",
      "[Parallel(n_jobs=-1)]: Done 7456 tasks      | elapsed:  1.2min\n",
      "[Parallel(n_jobs=-1)]: Done 8706 tasks      | elapsed:  1.5min\n",
      "[Parallel(n_jobs=-1)]: Done 10056 tasks      | elapsed:  1.6min\n",
      "[Parallel(n_jobs=-1)]: Done 11506 tasks      | elapsed:  1.9min\n",
      "[Parallel(n_jobs=-1)]: Done 13056 tasks      | elapsed:  2.1min\n",
      "[Parallel(n_jobs=-1)]: Done 14706 tasks      | elapsed:  2.4min\n",
      "[Parallel(n_jobs=-1)]: Done 16456 tasks      | elapsed:  2.7min\n",
      "[Parallel(n_jobs=-1)]: Done 18306 tasks      | elapsed:  2.9min\n",
      "[Parallel(n_jobs=-1)]: Done 20256 tasks      | elapsed:  3.3min\n",
      "[Parallel(n_jobs=-1)]: Done 22306 tasks      | elapsed:  3.6min\n",
      "[Parallel(n_jobs=-1)]: Done 24456 tasks      | elapsed:  4.0min\n",
      "[Parallel(n_jobs=-1)]: Done 26706 tasks      | elapsed:  4.4min\n",
      "[Parallel(n_jobs=-1)]: Done 29056 tasks      | elapsed:  4.8min\n",
      "[Parallel(n_jobs=-1)]: Done 30000 out of 30000 | elapsed:  5.0min finished\n"
     ]
    },
    {
     "name": "stdout",
     "output_type": "stream",
     "text": [
      "Fitting 15 folds for each of 2000 candidates, totalling 30000 fits\n"
     ]
    },
    {
     "name": "stderr",
     "output_type": "stream",
     "text": [
      "[Parallel(n_jobs=-1)]: Using backend LokyBackend with 64 concurrent workers.\n",
      "[Parallel(n_jobs=-1)]: Done  72 tasks      | elapsed:    0.8s\n",
      "[Parallel(n_jobs=-1)]: Done 516 tasks      | elapsed:    3.9s\n",
      "[Parallel(n_jobs=-1)]: Done 992 tasks      | elapsed:   10.6s\n",
      "[Parallel(n_jobs=-1)]: Done 1442 tasks      | elapsed:   17.0s\n",
      "[Parallel(n_jobs=-1)]: Done 1992 tasks      | elapsed:   23.3s\n",
      "[Parallel(n_jobs=-1)]: Done 2642 tasks      | elapsed:   30.5s\n",
      "[Parallel(n_jobs=-1)]: Done 3392 tasks      | elapsed:   38.0s\n",
      "[Parallel(n_jobs=-1)]: Done 4242 tasks      | elapsed:   48.2s\n",
      "[Parallel(n_jobs=-1)]: Done 5192 tasks      | elapsed:  1.0min\n",
      "[Parallel(n_jobs=-1)]: Done 6242 tasks      | elapsed:  1.2min\n",
      "[Parallel(n_jobs=-1)]: Done 7392 tasks      | elapsed:  1.4min\n",
      "[Parallel(n_jobs=-1)]: Done 8642 tasks      | elapsed:  1.7min\n",
      "[Parallel(n_jobs=-1)]: Done 9992 tasks      | elapsed:  1.9min\n",
      "[Parallel(n_jobs=-1)]: Done 11442 tasks      | elapsed:  2.1min\n",
      "[Parallel(n_jobs=-1)]: Done 12992 tasks      | elapsed:  2.4min\n",
      "[Parallel(n_jobs=-1)]: Done 14642 tasks      | elapsed:  2.8min\n",
      "[Parallel(n_jobs=-1)]: Done 16392 tasks      | elapsed:  3.1min\n",
      "[Parallel(n_jobs=-1)]: Done 18242 tasks      | elapsed:  3.4min\n",
      "[Parallel(n_jobs=-1)]: Done 20192 tasks      | elapsed:  3.8min\n",
      "[Parallel(n_jobs=-1)]: Done 22242 tasks      | elapsed:  4.2min\n",
      "[Parallel(n_jobs=-1)]: Done 24392 tasks      | elapsed:  4.6min\n",
      "[Parallel(n_jobs=-1)]: Done 26642 tasks      | elapsed:  5.1min\n",
      "[Parallel(n_jobs=-1)]: Done 28992 tasks      | elapsed:  5.5min\n",
      "[Parallel(n_jobs=-1)]: Done 30000 out of 30000 | elapsed:  5.7min finished\n"
     ]
    },
    {
     "name": "stdout",
     "output_type": "stream",
     "text": [
      "Running rf with morgan\n",
      "Fitting 15 folds for each of 2000 candidates, totalling 30000 fits\n"
     ]
    },
    {
     "name": "stderr",
     "output_type": "stream",
     "text": [
      "[Parallel(n_jobs=-1)]: Using backend LokyBackend with 64 concurrent workers.\n",
      "[Parallel(n_jobs=-1)]: Done  72 tasks      | elapsed:    3.6s\n",
      "[Parallel(n_jobs=-1)]: Done 322 tasks      | elapsed:    9.0s\n",
      "[Parallel(n_jobs=-1)]: Done 672 tasks      | elapsed:   16.1s\n",
      "[Parallel(n_jobs=-1)]: Done 1122 tasks      | elapsed:   26.2s\n",
      "[Parallel(n_jobs=-1)]: Done 1672 tasks      | elapsed:   40.6s\n",
      "[Parallel(n_jobs=-1)]: Done 2322 tasks      | elapsed:   55.6s\n",
      "[Parallel(n_jobs=-1)]: Done 3072 tasks      | elapsed:  1.2min\n",
      "[Parallel(n_jobs=-1)]: Done 3922 tasks      | elapsed:  1.5min\n",
      "[Parallel(n_jobs=-1)]: Done 4872 tasks      | elapsed:  1.9min\n",
      "[Parallel(n_jobs=-1)]: Done 5922 tasks      | elapsed:  2.4min\n",
      "[Parallel(n_jobs=-1)]: Done 7072 tasks      | elapsed:  2.8min\n",
      "[Parallel(n_jobs=-1)]: Done 8322 tasks      | elapsed:  3.3min\n",
      "[Parallel(n_jobs=-1)]: Done 9672 tasks      | elapsed:  3.8min\n",
      "[Parallel(n_jobs=-1)]: Done 11122 tasks      | elapsed:  4.4min\n",
      "[Parallel(n_jobs=-1)]: Done 12672 tasks      | elapsed:  5.0min\n",
      "[Parallel(n_jobs=-1)]: Done 14322 tasks      | elapsed:  5.6min\n",
      "[Parallel(n_jobs=-1)]: Done 16072 tasks      | elapsed:  6.3min\n",
      "[Parallel(n_jobs=-1)]: Done 17922 tasks      | elapsed:  7.1min\n",
      "[Parallel(n_jobs=-1)]: Done 19872 tasks      | elapsed:  7.9min\n",
      "[Parallel(n_jobs=-1)]: Done 21922 tasks      | elapsed:  8.8min\n",
      "[Parallel(n_jobs=-1)]: Done 24072 tasks      | elapsed:  9.6min\n",
      "[Parallel(n_jobs=-1)]: Done 26322 tasks      | elapsed: 10.6min\n",
      "[Parallel(n_jobs=-1)]: Done 28672 tasks      | elapsed: 11.4min\n",
      "[Parallel(n_jobs=-1)]: Done 30000 out of 30000 | elapsed: 12.0min finished\n"
     ]
    },
    {
     "name": "stdout",
     "output_type": "stream",
     "text": [
      "Fitting 15 folds for each of 2000 candidates, totalling 30000 fits\n"
     ]
    },
    {
     "name": "stderr",
     "output_type": "stream",
     "text": [
      "[Parallel(n_jobs=-1)]: Using backend LokyBackend with 64 concurrent workers.\n",
      "[Parallel(n_jobs=-1)]: Done  72 tasks      | elapsed:    3.6s\n",
      "[Parallel(n_jobs=-1)]: Done 322 tasks      | elapsed:    9.0s\n",
      "[Parallel(n_jobs=-1)]: Done 672 tasks      | elapsed:   16.1s\n",
      "[Parallel(n_jobs=-1)]: Done 1122 tasks      | elapsed:   26.2s\n",
      "[Parallel(n_jobs=-1)]: Done 1672 tasks      | elapsed:   40.6s\n",
      "[Parallel(n_jobs=-1)]: Done 2322 tasks      | elapsed:   55.6s\n",
      "[Parallel(n_jobs=-1)]: Done 3072 tasks      | elapsed:  1.2min\n",
      "[Parallel(n_jobs=-1)]: Done 3922 tasks      | elapsed:  1.5min\n",
      "[Parallel(n_jobs=-1)]: Done 4872 tasks      | elapsed:  1.9min\n",
      "[Parallel(n_jobs=-1)]: Done 5922 tasks      | elapsed:  2.4min\n",
      "[Parallel(n_jobs=-1)]: Done 7072 tasks      | elapsed:  2.8min\n",
      "[Parallel(n_jobs=-1)]: Done 8322 tasks      | elapsed:  3.3min\n",
      "[Parallel(n_jobs=-1)]: Done 9672 tasks      | elapsed:  3.8min\n",
      "[Parallel(n_jobs=-1)]: Done 11122 tasks      | elapsed:  4.4min\n",
      "[Parallel(n_jobs=-1)]: Done 12672 tasks      | elapsed:  5.0min\n",
      "[Parallel(n_jobs=-1)]: Done 14322 tasks      | elapsed:  5.6min\n",
      "[Parallel(n_jobs=-1)]: Done 16072 tasks      | elapsed:  6.3min\n",
      "[Parallel(n_jobs=-1)]: Done 17922 tasks      | elapsed:  7.1min\n",
      "[Parallel(n_jobs=-1)]: Done 19872 tasks      | elapsed:  7.9min\n",
      "[Parallel(n_jobs=-1)]: Done 21922 tasks      | elapsed:  8.8min\n",
      "[Parallel(n_jobs=-1)]: Done 24072 tasks      | elapsed:  9.6min\n",
      "[Parallel(n_jobs=-1)]: Done 26322 tasks      | elapsed: 10.5min\n",
      "[Parallel(n_jobs=-1)]: Done 28672 tasks      | elapsed: 11.4min\n",
      "[Parallel(n_jobs=-1)]: Done 30000 out of 30000 | elapsed: 12.0min finished\n"
     ]
    },
    {
     "name": "stdout",
     "output_type": "stream",
     "text": [
      "Fitting 15 folds for each of 2000 candidates, totalling 30000 fits\n"
     ]
    },
    {
     "name": "stderr",
     "output_type": "stream",
     "text": [
      "[Parallel(n_jobs=-1)]: Using backend LokyBackend with 64 concurrent workers.\n",
      "[Parallel(n_jobs=-1)]: Done  72 tasks      | elapsed:    3.7s\n",
      "[Parallel(n_jobs=-1)]: Done 322 tasks      | elapsed:    9.0s\n",
      "[Parallel(n_jobs=-1)]: Done 672 tasks      | elapsed:   16.2s\n",
      "[Parallel(n_jobs=-1)]: Done 1122 tasks      | elapsed:   26.2s\n",
      "[Parallel(n_jobs=-1)]: Done 1672 tasks      | elapsed:   40.8s\n",
      "[Parallel(n_jobs=-1)]: Done 2322 tasks      | elapsed:   55.8s\n",
      "[Parallel(n_jobs=-1)]: Done 3072 tasks      | elapsed:  1.2min\n",
      "[Parallel(n_jobs=-1)]: Done 3922 tasks      | elapsed:  1.5min\n",
      "[Parallel(n_jobs=-1)]: Done 4872 tasks      | elapsed:  1.9min\n",
      "[Parallel(n_jobs=-1)]: Done 5922 tasks      | elapsed:  2.4min\n",
      "[Parallel(n_jobs=-1)]: Done 7072 tasks      | elapsed:  2.8min\n",
      "[Parallel(n_jobs=-1)]: Done 8322 tasks      | elapsed:  3.3min\n",
      "[Parallel(n_jobs=-1)]: Done 9672 tasks      | elapsed:  3.8min\n",
      "[Parallel(n_jobs=-1)]: Done 11122 tasks      | elapsed:  4.4min\n",
      "[Parallel(n_jobs=-1)]: Done 12672 tasks      | elapsed:  5.0min\n",
      "[Parallel(n_jobs=-1)]: Done 14322 tasks      | elapsed:  5.6min\n",
      "[Parallel(n_jobs=-1)]: Done 16072 tasks      | elapsed:  6.4min\n",
      "[Parallel(n_jobs=-1)]: Done 17922 tasks      | elapsed:  7.1min\n",
      "[Parallel(n_jobs=-1)]: Done 19872 tasks      | elapsed:  8.0min\n",
      "[Parallel(n_jobs=-1)]: Done 21922 tasks      | elapsed:  8.8min\n",
      "[Parallel(n_jobs=-1)]: Done 24072 tasks      | elapsed:  9.6min\n",
      "[Parallel(n_jobs=-1)]: Done 26322 tasks      | elapsed: 10.6min\n",
      "[Parallel(n_jobs=-1)]: Done 28672 tasks      | elapsed: 11.5min\n",
      "[Parallel(n_jobs=-1)]: Done 30000 out of 30000 | elapsed: 12.0min finished\n"
     ]
    },
    {
     "name": "stdout",
     "output_type": "stream",
     "text": [
      "Running knn with morgan\n",
      "Fitting 15 folds for each of 1200 candidates, totalling 18000 fits\n"
     ]
    },
    {
     "name": "stderr",
     "output_type": "stream",
     "text": [
      "[Parallel(n_jobs=-1)]: Using backend LokyBackend with 64 concurrent workers.\n",
      "[Parallel(n_jobs=-1)]: Done  72 tasks      | elapsed:    0.3s\n",
      "[Parallel(n_jobs=-1)]: Done 516 tasks      | elapsed:    1.1s\n",
      "[Parallel(n_jobs=-1)]: Done 1216 tasks      | elapsed:    2.1s\n",
      "[Parallel(n_jobs=-1)]: Done 2116 tasks      | elapsed:    3.6s\n",
      "[Parallel(n_jobs=-1)]: Done 3216 tasks      | elapsed:    5.2s\n",
      "[Parallel(n_jobs=-1)]: Done 4516 tasks      | elapsed:    7.2s\n",
      "[Parallel(n_jobs=-1)]: Done 6016 tasks      | elapsed:    9.5s\n",
      "[Parallel(n_jobs=-1)]: Done 7716 tasks      | elapsed:   12.1s\n",
      "[Parallel(n_jobs=-1)]: Done 9616 tasks      | elapsed:   14.9s\n",
      "[Parallel(n_jobs=-1)]: Done 11716 tasks      | elapsed:   18.3s\n",
      "[Parallel(n_jobs=-1)]: Done 14016 tasks      | elapsed:   21.8s\n",
      "[Parallel(n_jobs=-1)]: Done 16516 tasks      | elapsed:   25.7s\n",
      "[Parallel(n_jobs=-1)]: Done 18000 out of 18000 | elapsed:   27.8s finished\n"
     ]
    },
    {
     "name": "stdout",
     "output_type": "stream",
     "text": [
      "Fitting 15 folds for each of 1200 candidates, totalling 18000 fits\n"
     ]
    },
    {
     "name": "stderr",
     "output_type": "stream",
     "text": [
      "[Parallel(n_jobs=-1)]: Using backend LokyBackend with 64 concurrent workers.\n",
      "[Parallel(n_jobs=-1)]: Done  72 tasks      | elapsed:    0.3s\n",
      "[Parallel(n_jobs=-1)]: Done 516 tasks      | elapsed:    1.1s\n",
      "[Parallel(n_jobs=-1)]: Done 1216 tasks      | elapsed:    2.1s\n",
      "[Parallel(n_jobs=-1)]: Done 2116 tasks      | elapsed:    3.4s\n",
      "[Parallel(n_jobs=-1)]: Done 3216 tasks      | elapsed:    5.0s\n",
      "[Parallel(n_jobs=-1)]: Done 4516 tasks      | elapsed:    7.0s\n",
      "[Parallel(n_jobs=-1)]: Done 6016 tasks      | elapsed:    9.1s\n",
      "[Parallel(n_jobs=-1)]: Done 7716 tasks      | elapsed:   11.9s\n",
      "[Parallel(n_jobs=-1)]: Done 9616 tasks      | elapsed:   14.8s\n",
      "[Parallel(n_jobs=-1)]: Done 11716 tasks      | elapsed:   18.0s\n",
      "[Parallel(n_jobs=-1)]: Done 14016 tasks      | elapsed:   21.5s\n",
      "[Parallel(n_jobs=-1)]: Done 16516 tasks      | elapsed:   25.5s\n",
      "[Parallel(n_jobs=-1)]: Done 18000 out of 18000 | elapsed:   27.6s finished\n"
     ]
    },
    {
     "name": "stdout",
     "output_type": "stream",
     "text": [
      "Fitting 15 folds for each of 1200 candidates, totalling 18000 fits\n"
     ]
    },
    {
     "name": "stderr",
     "output_type": "stream",
     "text": [
      "[Parallel(n_jobs=-1)]: Using backend LokyBackend with 64 concurrent workers.\n",
      "[Parallel(n_jobs=-1)]: Done  72 tasks      | elapsed:    0.3s\n",
      "[Parallel(n_jobs=-1)]: Done 516 tasks      | elapsed:    1.0s\n",
      "[Parallel(n_jobs=-1)]: Done 1216 tasks      | elapsed:    2.0s\n",
      "[Parallel(n_jobs=-1)]: Done 2116 tasks      | elapsed:    3.3s\n",
      "[Parallel(n_jobs=-1)]: Done 3216 tasks      | elapsed:    5.0s\n",
      "[Parallel(n_jobs=-1)]: Done 4516 tasks      | elapsed:    7.1s\n",
      "[Parallel(n_jobs=-1)]: Done 6016 tasks      | elapsed:    9.3s\n",
      "[Parallel(n_jobs=-1)]: Done 7716 tasks      | elapsed:   11.9s\n",
      "[Parallel(n_jobs=-1)]: Done 9616 tasks      | elapsed:   14.9s\n",
      "[Parallel(n_jobs=-1)]: Done 11716 tasks      | elapsed:   18.1s\n",
      "[Parallel(n_jobs=-1)]: Done 14016 tasks      | elapsed:   21.8s\n",
      "[Parallel(n_jobs=-1)]: Done 16516 tasks      | elapsed:   25.6s\n",
      "[Parallel(n_jobs=-1)]: Done 18000 out of 18000 | elapsed:   27.8s finished\n"
     ]
    },
    {
     "name": "stdout",
     "output_type": "stream",
     "text": [
      "Running svm with morgan\n",
      "Fitting 15 folds for each of 1000 candidates, totalling 15000 fits\n"
     ]
    },
    {
     "name": "stderr",
     "output_type": "stream",
     "text": [
      "[Parallel(n_jobs=-1)]: Using backend LokyBackend with 64 concurrent workers.\n",
      "[Parallel(n_jobs=-1)]: Done  72 tasks      | elapsed:    0.3s\n",
      "[Parallel(n_jobs=-1)]: Done 516 tasks      | elapsed:    1.2s\n",
      "[Parallel(n_jobs=-1)]: Done 1216 tasks      | elapsed:    2.3s\n",
      "[Parallel(n_jobs=-1)]: Done 2116 tasks      | elapsed:    3.7s\n",
      "[Parallel(n_jobs=-1)]: Done 3216 tasks      | elapsed:    5.6s\n",
      "[Parallel(n_jobs=-1)]: Done 4516 tasks      | elapsed:    7.8s\n",
      "[Parallel(n_jobs=-1)]: Done 6016 tasks      | elapsed:   10.2s\n",
      "[Parallel(n_jobs=-1)]: Done 7716 tasks      | elapsed:   13.1s\n",
      "[Parallel(n_jobs=-1)]: Done 9616 tasks      | elapsed:   16.3s\n",
      "[Parallel(n_jobs=-1)]: Done 11716 tasks      | elapsed:   19.7s\n",
      "[Parallel(n_jobs=-1)]: Done 14016 tasks      | elapsed:   23.5s\n",
      "[Parallel(n_jobs=-1)]: Done 15000 out of 15000 | elapsed:   24.9s finished\n"
     ]
    },
    {
     "name": "stdout",
     "output_type": "stream",
     "text": [
      "Fitting 15 folds for each of 1000 candidates, totalling 15000 fits\n"
     ]
    },
    {
     "name": "stderr",
     "output_type": "stream",
     "text": [
      "[Parallel(n_jobs=-1)]: Using backend LokyBackend with 64 concurrent workers.\n",
      "[Parallel(n_jobs=-1)]: Done  72 tasks      | elapsed:    0.3s\n",
      "[Parallel(n_jobs=-1)]: Done 516 tasks      | elapsed:    1.2s\n",
      "[Parallel(n_jobs=-1)]: Done 1216 tasks      | elapsed:    2.3s\n",
      "[Parallel(n_jobs=-1)]: Done 2116 tasks      | elapsed:    3.8s\n",
      "[Parallel(n_jobs=-1)]: Done 3216 tasks      | elapsed:    5.5s\n",
      "[Parallel(n_jobs=-1)]: Done 4516 tasks      | elapsed:    7.6s\n",
      "[Parallel(n_jobs=-1)]: Done 6016 tasks      | elapsed:    9.9s\n",
      "[Parallel(n_jobs=-1)]: Done 7716 tasks      | elapsed:   12.6s\n",
      "[Parallel(n_jobs=-1)]: Done 9616 tasks      | elapsed:   15.9s\n",
      "[Parallel(n_jobs=-1)]: Done 11716 tasks      | elapsed:   19.3s\n",
      "[Parallel(n_jobs=-1)]: Done 14016 tasks      | elapsed:   23.0s\n",
      "[Parallel(n_jobs=-1)]: Done 15000 out of 15000 | elapsed:   24.5s finished\n"
     ]
    },
    {
     "name": "stdout",
     "output_type": "stream",
     "text": [
      "Fitting 15 folds for each of 1000 candidates, totalling 15000 fits\n"
     ]
    },
    {
     "name": "stderr",
     "output_type": "stream",
     "text": [
      "[Parallel(n_jobs=-1)]: Using backend LokyBackend with 64 concurrent workers.\n",
      "[Parallel(n_jobs=-1)]: Done  72 tasks      | elapsed:    0.3s\n",
      "[Parallel(n_jobs=-1)]: Done 516 tasks      | elapsed:    1.1s\n",
      "[Parallel(n_jobs=-1)]: Done 1216 tasks      | elapsed:    2.3s\n",
      "[Parallel(n_jobs=-1)]: Done 2116 tasks      | elapsed:    3.8s\n",
      "[Parallel(n_jobs=-1)]: Done 3216 tasks      | elapsed:    5.5s\n",
      "[Parallel(n_jobs=-1)]: Done 4516 tasks      | elapsed:    7.6s\n",
      "[Parallel(n_jobs=-1)]: Done 6016 tasks      | elapsed:   10.0s\n",
      "[Parallel(n_jobs=-1)]: Done 7716 tasks      | elapsed:   12.8s\n",
      "[Parallel(n_jobs=-1)]: Done 9616 tasks      | elapsed:   16.0s\n",
      "[Parallel(n_jobs=-1)]: Done 11716 tasks      | elapsed:   19.3s\n",
      "[Parallel(n_jobs=-1)]: Done 14016 tasks      | elapsed:   23.0s\n",
      "[Parallel(n_jobs=-1)]: Done 15000 out of 15000 | elapsed:   24.4s finished\n"
     ]
    },
    {
     "name": "stdout",
     "output_type": "stream",
     "text": [
      "Running ada with morgan\n",
      "Fitting 15 folds for each of 2000 candidates, totalling 30000 fits\n"
     ]
    },
    {
     "name": "stderr",
     "output_type": "stream",
     "text": [
      "[Parallel(n_jobs=-1)]: Using backend LokyBackend with 64 concurrent workers.\n",
      "[Parallel(n_jobs=-1)]: Done  75 tasks      | elapsed:    1.1s\n",
      "[Parallel(n_jobs=-1)]: Done 496 tasks      | elapsed:    6.7s\n",
      "[Parallel(n_jobs=-1)]: Done 863 tasks      | elapsed:   15.2s\n",
      "[Parallel(n_jobs=-1)]: Done 1314 tasks      | elapsed:   25.1s\n",
      "[Parallel(n_jobs=-1)]: Done 1864 tasks      | elapsed:   36.1s\n",
      "[Parallel(n_jobs=-1)]: Done 2514 tasks      | elapsed:   48.3s\n",
      "[Parallel(n_jobs=-1)]: Done 3264 tasks      | elapsed:  1.0min\n",
      "[Parallel(n_jobs=-1)]: Done 4114 tasks      | elapsed:  1.3min\n",
      "[Parallel(n_jobs=-1)]: Done 5064 tasks      | elapsed:  1.7min\n",
      "[Parallel(n_jobs=-1)]: Done 6114 tasks      | elapsed:  2.0min\n",
      "[Parallel(n_jobs=-1)]: Done 7264 tasks      | elapsed:  2.3min\n",
      "[Parallel(n_jobs=-1)]: Done 8514 tasks      | elapsed:  2.8min\n",
      "[Parallel(n_jobs=-1)]: Done 9864 tasks      | elapsed:  3.1min\n",
      "[Parallel(n_jobs=-1)]: Done 11314 tasks      | elapsed:  3.6min\n",
      "[Parallel(n_jobs=-1)]: Done 12864 tasks      | elapsed:  4.0min\n",
      "[Parallel(n_jobs=-1)]: Done 14514 tasks      | elapsed:  4.6min\n",
      "[Parallel(n_jobs=-1)]: Done 16264 tasks      | elapsed:  5.1min\n",
      "[Parallel(n_jobs=-1)]: Done 18114 tasks      | elapsed:  5.6min\n",
      "[Parallel(n_jobs=-1)]: Done 20064 tasks      | elapsed:  6.3min\n",
      "[Parallel(n_jobs=-1)]: Done 22114 tasks      | elapsed:  6.9min\n",
      "[Parallel(n_jobs=-1)]: Done 24264 tasks      | elapsed:  7.7min\n",
      "[Parallel(n_jobs=-1)]: Done 26514 tasks      | elapsed:  8.4min\n",
      "[Parallel(n_jobs=-1)]: Done 28864 tasks      | elapsed:  9.2min\n",
      "[Parallel(n_jobs=-1)]: Done 30000 out of 30000 | elapsed:  9.6min finished\n"
     ]
    },
    {
     "name": "stdout",
     "output_type": "stream",
     "text": [
      "Fitting 15 folds for each of 2000 candidates, totalling 30000 fits\n"
     ]
    },
    {
     "name": "stderr",
     "output_type": "stream",
     "text": [
      "[Parallel(n_jobs=-1)]: Using backend LokyBackend with 64 concurrent workers.\n",
      "[Parallel(n_jobs=-1)]: Done  72 tasks      | elapsed:    1.1s\n",
      "[Parallel(n_jobs=-1)]: Done 494 tasks      | elapsed:    6.7s\n",
      "[Parallel(n_jobs=-1)]: Done 863 tasks      | elapsed:   15.0s\n",
      "[Parallel(n_jobs=-1)]: Done 1314 tasks      | elapsed:   24.9s\n",
      "[Parallel(n_jobs=-1)]: Done 1864 tasks      | elapsed:   35.9s\n",
      "[Parallel(n_jobs=-1)]: Done 2514 tasks      | elapsed:   47.7s\n",
      "[Parallel(n_jobs=-1)]: Done 3264 tasks      | elapsed:   59.5s\n",
      "[Parallel(n_jobs=-1)]: Done 4114 tasks      | elapsed:  1.3min\n",
      "[Parallel(n_jobs=-1)]: Done 5064 tasks      | elapsed:  1.6min\n",
      "[Parallel(n_jobs=-1)]: Done 6114 tasks      | elapsed:  2.0min\n",
      "[Parallel(n_jobs=-1)]: Done 7264 tasks      | elapsed:  2.3min\n",
      "[Parallel(n_jobs=-1)]: Done 8514 tasks      | elapsed:  2.7min\n",
      "[Parallel(n_jobs=-1)]: Done 9864 tasks      | elapsed:  3.1min\n",
      "[Parallel(n_jobs=-1)]: Done 11314 tasks      | elapsed:  3.6min\n",
      "[Parallel(n_jobs=-1)]: Done 12864 tasks      | elapsed:  4.0min\n",
      "[Parallel(n_jobs=-1)]: Done 14514 tasks      | elapsed:  4.5min\n",
      "[Parallel(n_jobs=-1)]: Done 16264 tasks      | elapsed:  5.1min\n",
      "[Parallel(n_jobs=-1)]: Done 18114 tasks      | elapsed:  5.6min\n",
      "[Parallel(n_jobs=-1)]: Done 20064 tasks      | elapsed:  6.2min\n",
      "[Parallel(n_jobs=-1)]: Done 22114 tasks      | elapsed:  6.9min\n",
      "[Parallel(n_jobs=-1)]: Done 24264 tasks      | elapsed:  7.6min\n",
      "[Parallel(n_jobs=-1)]: Done 26514 tasks      | elapsed:  8.4min\n",
      "[Parallel(n_jobs=-1)]: Done 28864 tasks      | elapsed:  9.2min\n",
      "[Parallel(n_jobs=-1)]: Done 30000 out of 30000 | elapsed:  9.6min finished\n"
     ]
    },
    {
     "name": "stdout",
     "output_type": "stream",
     "text": [
      "Fitting 15 folds for each of 2000 candidates, totalling 30000 fits\n"
     ]
    },
    {
     "name": "stderr",
     "output_type": "stream",
     "text": [
      "[Parallel(n_jobs=-1)]: Using backend LokyBackend with 64 concurrent workers.\n",
      "[Parallel(n_jobs=-1)]: Done  73 tasks      | elapsed:    1.1s\n",
      "[Parallel(n_jobs=-1)]: Done 496 tasks      | elapsed:    6.7s\n",
      "[Parallel(n_jobs=-1)]: Done 863 tasks      | elapsed:   15.2s\n",
      "[Parallel(n_jobs=-1)]: Done 1314 tasks      | elapsed:   25.2s\n",
      "[Parallel(n_jobs=-1)]: Done 1864 tasks      | elapsed:   36.5s\n",
      "[Parallel(n_jobs=-1)]: Done 2514 tasks      | elapsed:   48.8s\n",
      "[Parallel(n_jobs=-1)]: Done 3264 tasks      | elapsed:  1.0min\n",
      "[Parallel(n_jobs=-1)]: Done 4114 tasks      | elapsed:  1.3min\n",
      "[Parallel(n_jobs=-1)]: Done 5064 tasks      | elapsed:  1.7min\n",
      "[Parallel(n_jobs=-1)]: Done 6114 tasks      | elapsed:  2.0min\n",
      "[Parallel(n_jobs=-1)]: Done 7264 tasks      | elapsed:  2.3min\n",
      "[Parallel(n_jobs=-1)]: Done 8514 tasks      | elapsed:  2.8min\n",
      "[Parallel(n_jobs=-1)]: Done 9864 tasks      | elapsed:  3.2min\n",
      "[Parallel(n_jobs=-1)]: Done 11314 tasks      | elapsed:  3.6min\n",
      "[Parallel(n_jobs=-1)]: Done 12864 tasks      | elapsed:  4.1min\n",
      "[Parallel(n_jobs=-1)]: Done 14514 tasks      | elapsed:  4.6min\n",
      "[Parallel(n_jobs=-1)]: Done 16264 tasks      | elapsed:  5.2min\n",
      "[Parallel(n_jobs=-1)]: Done 18114 tasks      | elapsed:  5.7min\n",
      "[Parallel(n_jobs=-1)]: Done 20064 tasks      | elapsed:  6.4min\n",
      "[Parallel(n_jobs=-1)]: Done 22114 tasks      | elapsed:  7.0min\n",
      "[Parallel(n_jobs=-1)]: Done 24264 tasks      | elapsed:  7.8min\n",
      "[Parallel(n_jobs=-1)]: Done 26514 tasks      | elapsed:  8.5min\n",
      "[Parallel(n_jobs=-1)]: Done 28864 tasks      | elapsed:  9.4min\n",
      "[Parallel(n_jobs=-1)]: Done 30000 out of 30000 | elapsed:  9.7min finished\n"
     ]
    },
    {
     "name": "stdout",
     "output_type": "stream",
     "text": [
      "Running rf with rdkit\n",
      "Fitting 15 folds for each of 2000 candidates, totalling 30000 fits\n"
     ]
    },
    {
     "name": "stderr",
     "output_type": "stream",
     "text": [
      "[Parallel(n_jobs=-1)]: Using backend LokyBackend with 64 concurrent workers.\n",
      "[Parallel(n_jobs=-1)]: Done  72 tasks      | elapsed:    3.9s\n",
      "[Parallel(n_jobs=-1)]: Done 322 tasks      | elapsed:   10.0s\n",
      "[Parallel(n_jobs=-1)]: Done 672 tasks      | elapsed:   18.2s\n",
      "[Parallel(n_jobs=-1)]: Done 1122 tasks      | elapsed:   29.1s\n",
      "[Parallel(n_jobs=-1)]: Done 1672 tasks      | elapsed:   45.3s\n",
      "[Parallel(n_jobs=-1)]: Done 2322 tasks      | elapsed:  1.0min\n",
      "[Parallel(n_jobs=-1)]: Done 3072 tasks      | elapsed:  1.3min\n",
      "[Parallel(n_jobs=-1)]: Done 3922 tasks      | elapsed:  1.7min\n",
      "[Parallel(n_jobs=-1)]: Done 4872 tasks      | elapsed:  2.1min\n",
      "[Parallel(n_jobs=-1)]: Done 5922 tasks      | elapsed:  2.6min\n",
      "[Parallel(n_jobs=-1)]: Done 7072 tasks      | elapsed:  3.2min\n",
      "[Parallel(n_jobs=-1)]: Done 8322 tasks      | elapsed:  3.6min\n",
      "[Parallel(n_jobs=-1)]: Done 9672 tasks      | elapsed:  4.2min\n",
      "[Parallel(n_jobs=-1)]: Done 11122 tasks      | elapsed:  4.9min\n",
      "[Parallel(n_jobs=-1)]: Done 12672 tasks      | elapsed:  5.5min\n",
      "[Parallel(n_jobs=-1)]: Done 14322 tasks      | elapsed:  6.3min\n",
      "[Parallel(n_jobs=-1)]: Done 16072 tasks      | elapsed:  7.1min\n",
      "[Parallel(n_jobs=-1)]: Done 17922 tasks      | elapsed:  7.9min\n",
      "[Parallel(n_jobs=-1)]: Done 19872 tasks      | elapsed:  8.9min\n",
      "[Parallel(n_jobs=-1)]: Done 21922 tasks      | elapsed:  9.9min\n",
      "[Parallel(n_jobs=-1)]: Done 24072 tasks      | elapsed: 10.8min\n",
      "[Parallel(n_jobs=-1)]: Done 26322 tasks      | elapsed: 11.9min\n",
      "[Parallel(n_jobs=-1)]: Done 28672 tasks      | elapsed: 12.9min\n",
      "[Parallel(n_jobs=-1)]: Done 30000 out of 30000 | elapsed: 13.5min finished\n"
     ]
    },
    {
     "name": "stdout",
     "output_type": "stream",
     "text": [
      "Fitting 15 folds for each of 2000 candidates, totalling 30000 fits\n"
     ]
    },
    {
     "name": "stderr",
     "output_type": "stream",
     "text": [
      "[Parallel(n_jobs=-1)]: Using backend LokyBackend with 64 concurrent workers.\n",
      "[Parallel(n_jobs=-1)]: Done  72 tasks      | elapsed:    4.0s\n",
      "[Parallel(n_jobs=-1)]: Done 322 tasks      | elapsed:    9.8s\n",
      "[Parallel(n_jobs=-1)]: Done 672 tasks      | elapsed:   18.0s\n",
      "[Parallel(n_jobs=-1)]: Done 1122 tasks      | elapsed:   29.2s\n",
      "[Parallel(n_jobs=-1)]: Done 1672 tasks      | elapsed:   45.2s\n",
      "[Parallel(n_jobs=-1)]: Done 2322 tasks      | elapsed:  1.0min\n",
      "[Parallel(n_jobs=-1)]: Done 3072 tasks      | elapsed:  1.3min\n",
      "[Parallel(n_jobs=-1)]: Done 3922 tasks      | elapsed:  1.7min\n",
      "[Parallel(n_jobs=-1)]: Done 4872 tasks      | elapsed:  2.1min\n",
      "[Parallel(n_jobs=-1)]: Done 5922 tasks      | elapsed:  2.6min\n",
      "[Parallel(n_jobs=-1)]: Done 7072 tasks      | elapsed:  3.1min\n",
      "[Parallel(n_jobs=-1)]: Done 8322 tasks      | elapsed:  3.6min\n",
      "[Parallel(n_jobs=-1)]: Done 9672 tasks      | elapsed:  4.2min\n",
      "[Parallel(n_jobs=-1)]: Done 11122 tasks      | elapsed:  4.9min\n",
      "[Parallel(n_jobs=-1)]: Done 12672 tasks      | elapsed:  5.5min\n",
      "[Parallel(n_jobs=-1)]: Done 14322 tasks      | elapsed:  6.3min\n",
      "[Parallel(n_jobs=-1)]: Done 16072 tasks      | elapsed:  7.1min\n",
      "[Parallel(n_jobs=-1)]: Done 17922 tasks      | elapsed:  7.9min\n",
      "[Parallel(n_jobs=-1)]: Done 19872 tasks      | elapsed:  8.9min\n",
      "[Parallel(n_jobs=-1)]: Done 21922 tasks      | elapsed:  9.8min\n",
      "[Parallel(n_jobs=-1)]: Done 24072 tasks      | elapsed: 10.8min\n",
      "[Parallel(n_jobs=-1)]: Done 26322 tasks      | elapsed: 11.8min\n",
      "[Parallel(n_jobs=-1)]: Done 28672 tasks      | elapsed: 12.8min\n",
      "[Parallel(n_jobs=-1)]: Done 30000 out of 30000 | elapsed: 13.5min finished\n"
     ]
    },
    {
     "name": "stdout",
     "output_type": "stream",
     "text": [
      "Fitting 15 folds for each of 2000 candidates, totalling 30000 fits\n"
     ]
    },
    {
     "name": "stderr",
     "output_type": "stream",
     "text": [
      "[Parallel(n_jobs=-1)]: Using backend LokyBackend with 64 concurrent workers.\n",
      "[Parallel(n_jobs=-1)]: Done  72 tasks      | elapsed:    4.1s\n",
      "[Parallel(n_jobs=-1)]: Done 322 tasks      | elapsed:   10.0s\n",
      "[Parallel(n_jobs=-1)]: Done 672 tasks      | elapsed:   18.1s\n",
      "[Parallel(n_jobs=-1)]: Done 1122 tasks      | elapsed:   29.1s\n",
      "[Parallel(n_jobs=-1)]: Done 1672 tasks      | elapsed:   45.3s\n",
      "[Parallel(n_jobs=-1)]: Done 2322 tasks      | elapsed:  1.0min\n",
      "[Parallel(n_jobs=-1)]: Done 3072 tasks      | elapsed:  1.3min\n",
      "[Parallel(n_jobs=-1)]: Done 3922 tasks      | elapsed:  1.7min\n",
      "[Parallel(n_jobs=-1)]: Done 4872 tasks      | elapsed:  2.1min\n",
      "[Parallel(n_jobs=-1)]: Done 5922 tasks      | elapsed:  2.6min\n",
      "[Parallel(n_jobs=-1)]: Done 7072 tasks      | elapsed:  3.1min\n",
      "[Parallel(n_jobs=-1)]: Done 8322 tasks      | elapsed:  3.6min\n",
      "[Parallel(n_jobs=-1)]: Done 9672 tasks      | elapsed:  4.2min\n",
      "[Parallel(n_jobs=-1)]: Done 11122 tasks      | elapsed:  4.9min\n",
      "[Parallel(n_jobs=-1)]: Done 12672 tasks      | elapsed:  5.5min\n",
      "[Parallel(n_jobs=-1)]: Done 14322 tasks      | elapsed:  6.3min\n",
      "[Parallel(n_jobs=-1)]: Done 16072 tasks      | elapsed:  7.1min\n",
      "[Parallel(n_jobs=-1)]: Done 17922 tasks      | elapsed:  7.9min\n",
      "[Parallel(n_jobs=-1)]: Done 19872 tasks      | elapsed:  8.9min\n",
      "[Parallel(n_jobs=-1)]: Done 21922 tasks      | elapsed:  9.8min\n",
      "[Parallel(n_jobs=-1)]: Done 24072 tasks      | elapsed: 10.8min\n",
      "[Parallel(n_jobs=-1)]: Done 26322 tasks      | elapsed: 11.8min\n",
      "[Parallel(n_jobs=-1)]: Done 28672 tasks      | elapsed: 12.8min\n",
      "[Parallel(n_jobs=-1)]: Done 30000 out of 30000 | elapsed: 13.5min finished\n"
     ]
    },
    {
     "name": "stdout",
     "output_type": "stream",
     "text": [
      "Running knn with rdkit\n",
      "Fitting 15 folds for each of 1200 candidates, totalling 18000 fits\n"
     ]
    },
    {
     "name": "stderr",
     "output_type": "stream",
     "text": [
      "[Parallel(n_jobs=-1)]: Using backend LokyBackend with 64 concurrent workers.\n",
      "[Parallel(n_jobs=-1)]: Done  72 tasks      | elapsed:    0.3s\n",
      "[Parallel(n_jobs=-1)]: Done 516 tasks      | elapsed:    1.2s\n",
      "[Parallel(n_jobs=-1)]: Done 1216 tasks      | elapsed:    2.2s\n",
      "[Parallel(n_jobs=-1)]: Done 2116 tasks      | elapsed:    3.6s\n",
      "[Parallel(n_jobs=-1)]: Done 3216 tasks      | elapsed:    5.3s\n",
      "[Parallel(n_jobs=-1)]: Done 4516 tasks      | elapsed:    7.2s\n",
      "[Parallel(n_jobs=-1)]: Done 6016 tasks      | elapsed:    9.4s\n",
      "[Parallel(n_jobs=-1)]: Done 7716 tasks      | elapsed:   12.2s\n",
      "[Parallel(n_jobs=-1)]: Done 9616 tasks      | elapsed:   15.1s\n",
      "[Parallel(n_jobs=-1)]: Done 11716 tasks      | elapsed:   18.2s\n",
      "[Parallel(n_jobs=-1)]: Done 14016 tasks      | elapsed:   21.7s\n",
      "[Parallel(n_jobs=-1)]: Done 16516 tasks      | elapsed:   25.5s\n",
      "[Parallel(n_jobs=-1)]: Done 18000 out of 18000 | elapsed:   27.8s finished\n"
     ]
    },
    {
     "name": "stdout",
     "output_type": "stream",
     "text": [
      "Fitting 15 folds for each of 1200 candidates, totalling 18000 fits\n"
     ]
    },
    {
     "name": "stderr",
     "output_type": "stream",
     "text": [
      "[Parallel(n_jobs=-1)]: Using backend LokyBackend with 64 concurrent workers.\n",
      "[Parallel(n_jobs=-1)]: Done  72 tasks      | elapsed:    0.3s\n",
      "[Parallel(n_jobs=-1)]: Done 516 tasks      | elapsed:    1.1s\n",
      "[Parallel(n_jobs=-1)]: Done 1216 tasks      | elapsed:    2.2s\n",
      "[Parallel(n_jobs=-1)]: Done 2116 tasks      | elapsed:    3.6s\n",
      "[Parallel(n_jobs=-1)]: Done 3216 tasks      | elapsed:    5.3s\n",
      "[Parallel(n_jobs=-1)]: Done 4516 tasks      | elapsed:    7.3s\n",
      "[Parallel(n_jobs=-1)]: Done 6016 tasks      | elapsed:    9.6s\n",
      "[Parallel(n_jobs=-1)]: Done 7716 tasks      | elapsed:   12.2s\n",
      "[Parallel(n_jobs=-1)]: Done 9616 tasks      | elapsed:   15.1s\n",
      "[Parallel(n_jobs=-1)]: Done 11716 tasks      | elapsed:   18.3s\n",
      "[Parallel(n_jobs=-1)]: Done 14016 tasks      | elapsed:   22.0s\n",
      "[Parallel(n_jobs=-1)]: Done 16516 tasks      | elapsed:   25.9s\n",
      "[Parallel(n_jobs=-1)]: Done 18000 out of 18000 | elapsed:   28.0s finished\n"
     ]
    },
    {
     "name": "stdout",
     "output_type": "stream",
     "text": [
      "Fitting 15 folds for each of 1200 candidates, totalling 18000 fits\n"
     ]
    },
    {
     "name": "stderr",
     "output_type": "stream",
     "text": [
      "[Parallel(n_jobs=-1)]: Using backend LokyBackend with 64 concurrent workers.\n",
      "[Parallel(n_jobs=-1)]: Done  72 tasks      | elapsed:    0.2s\n",
      "[Parallel(n_jobs=-1)]: Done 516 tasks      | elapsed:    1.1s\n",
      "[Parallel(n_jobs=-1)]: Done 1216 tasks      | elapsed:    2.2s\n",
      "[Parallel(n_jobs=-1)]: Done 2116 tasks      | elapsed:    3.5s\n",
      "[Parallel(n_jobs=-1)]: Done 3216 tasks      | elapsed:    5.3s\n",
      "[Parallel(n_jobs=-1)]: Done 4516 tasks      | elapsed:    7.3s\n",
      "[Parallel(n_jobs=-1)]: Done 6016 tasks      | elapsed:    9.5s\n",
      "[Parallel(n_jobs=-1)]: Done 7716 tasks      | elapsed:   12.1s\n",
      "[Parallel(n_jobs=-1)]: Done 9616 tasks      | elapsed:   15.2s\n",
      "[Parallel(n_jobs=-1)]: Done 11716 tasks      | elapsed:   18.6s\n",
      "[Parallel(n_jobs=-1)]: Done 14016 tasks      | elapsed:   22.0s\n",
      "[Parallel(n_jobs=-1)]: Done 16516 tasks      | elapsed:   25.8s\n",
      "[Parallel(n_jobs=-1)]: Done 18000 out of 18000 | elapsed:   28.0s finished\n"
     ]
    },
    {
     "name": "stdout",
     "output_type": "stream",
     "text": [
      "Running svm with rdkit\n",
      "Fitting 15 folds for each of 1000 candidates, totalling 15000 fits\n"
     ]
    },
    {
     "name": "stderr",
     "output_type": "stream",
     "text": [
      "[Parallel(n_jobs=-1)]: Using backend LokyBackend with 64 concurrent workers.\n",
      "[Parallel(n_jobs=-1)]: Done  72 tasks      | elapsed:    0.3s\n",
      "[Parallel(n_jobs=-1)]: Done 516 tasks      | elapsed:    1.1s\n",
      "[Parallel(n_jobs=-1)]: Done 1216 tasks      | elapsed:    2.1s\n",
      "[Parallel(n_jobs=-1)]: Done 2116 tasks      | elapsed:    3.6s\n",
      "[Parallel(n_jobs=-1)]: Done 3216 tasks      | elapsed:    5.4s\n",
      "[Parallel(n_jobs=-1)]: Done 4516 tasks      | elapsed:    7.5s\n",
      "[Parallel(n_jobs=-1)]: Done 6016 tasks      | elapsed:   10.0s\n",
      "[Parallel(n_jobs=-1)]: Done 7716 tasks      | elapsed:   12.7s\n",
      "[Parallel(n_jobs=-1)]: Done 9616 tasks      | elapsed:   15.6s\n",
      "[Parallel(n_jobs=-1)]: Done 11716 tasks      | elapsed:   18.8s\n",
      "[Parallel(n_jobs=-1)]: Done 14016 tasks      | elapsed:   22.4s\n",
      "[Parallel(n_jobs=-1)]: Done 15000 out of 15000 | elapsed:   24.0s finished\n"
     ]
    },
    {
     "name": "stdout",
     "output_type": "stream",
     "text": [
      "Fitting 15 folds for each of 1000 candidates, totalling 15000 fits\n"
     ]
    },
    {
     "name": "stderr",
     "output_type": "stream",
     "text": [
      "[Parallel(n_jobs=-1)]: Using backend LokyBackend with 64 concurrent workers.\n",
      "[Parallel(n_jobs=-1)]: Done  72 tasks      | elapsed:    0.3s\n",
      "[Parallel(n_jobs=-1)]: Done 516 tasks      | elapsed:    1.1s\n",
      "[Parallel(n_jobs=-1)]: Done 1216 tasks      | elapsed:    2.2s\n",
      "[Parallel(n_jobs=-1)]: Done 2116 tasks      | elapsed:    3.7s\n",
      "[Parallel(n_jobs=-1)]: Done 3216 tasks      | elapsed:    5.4s\n",
      "[Parallel(n_jobs=-1)]: Done 4516 tasks      | elapsed:    7.4s\n",
      "[Parallel(n_jobs=-1)]: Done 6016 tasks      | elapsed:    9.9s\n",
      "[Parallel(n_jobs=-1)]: Done 7716 tasks      | elapsed:   12.7s\n",
      "[Parallel(n_jobs=-1)]: Done 9616 tasks      | elapsed:   15.5s\n",
      "[Parallel(n_jobs=-1)]: Done 11716 tasks      | elapsed:   18.8s\n",
      "[Parallel(n_jobs=-1)]: Done 14016 tasks      | elapsed:   22.4s\n",
      "[Parallel(n_jobs=-1)]: Done 15000 out of 15000 | elapsed:   23.8s finished\n"
     ]
    },
    {
     "name": "stdout",
     "output_type": "stream",
     "text": [
      "Fitting 15 folds for each of 1000 candidates, totalling 15000 fits\n"
     ]
    },
    {
     "name": "stderr",
     "output_type": "stream",
     "text": [
      "[Parallel(n_jobs=-1)]: Using backend LokyBackend with 64 concurrent workers.\n",
      "[Parallel(n_jobs=-1)]: Done  72 tasks      | elapsed:    0.3s\n",
      "[Parallel(n_jobs=-1)]: Done 516 tasks      | elapsed:    1.1s\n",
      "[Parallel(n_jobs=-1)]: Done 1216 tasks      | elapsed:    2.2s\n",
      "[Parallel(n_jobs=-1)]: Done 2116 tasks      | elapsed:    3.6s\n",
      "[Parallel(n_jobs=-1)]: Done 3216 tasks      | elapsed:    5.2s\n",
      "[Parallel(n_jobs=-1)]: Done 4516 tasks      | elapsed:    7.2s\n",
      "[Parallel(n_jobs=-1)]: Done 6016 tasks      | elapsed:    9.5s\n",
      "[Parallel(n_jobs=-1)]: Done 7716 tasks      | elapsed:   12.3s\n",
      "[Parallel(n_jobs=-1)]: Done 9616 tasks      | elapsed:   15.3s\n",
      "[Parallel(n_jobs=-1)]: Done 11716 tasks      | elapsed:   18.5s\n",
      "[Parallel(n_jobs=-1)]: Done 14016 tasks      | elapsed:   22.1s\n",
      "[Parallel(n_jobs=-1)]: Done 15000 out of 15000 | elapsed:   23.5s finished\n"
     ]
    },
    {
     "name": "stdout",
     "output_type": "stream",
     "text": [
      "Running ada with rdkit\n",
      "Fitting 15 folds for each of 2000 candidates, totalling 30000 fits\n"
     ]
    },
    {
     "name": "stderr",
     "output_type": "stream",
     "text": [
      "[Parallel(n_jobs=-1)]: Using backend LokyBackend with 64 concurrent workers.\n",
      "[Parallel(n_jobs=-1)]: Done  73 tasks      | elapsed:    1.2s\n",
      "[Parallel(n_jobs=-1)]: Done 432 tasks      | elapsed:    6.0s\n",
      "[Parallel(n_jobs=-1)]: Done 800 tasks      | elapsed:   16.9s\n",
      "[Parallel(n_jobs=-1)]: Done 1250 tasks      | elapsed:   27.4s\n",
      "[Parallel(n_jobs=-1)]: Done 1800 tasks      | elapsed:   39.9s\n",
      "[Parallel(n_jobs=-1)]: Done 2450 tasks      | elapsed:   53.4s\n",
      "[Parallel(n_jobs=-1)]: Done 3200 tasks      | elapsed:  1.1min\n",
      "[Parallel(n_jobs=-1)]: Done 4050 tasks      | elapsed:  1.5min\n",
      "[Parallel(n_jobs=-1)]: Done 5000 tasks      | elapsed:  1.9min\n",
      "[Parallel(n_jobs=-1)]: Done 6050 tasks      | elapsed:  2.3min\n",
      "[Parallel(n_jobs=-1)]: Done 7200 tasks      | elapsed:  2.7min\n",
      "[Parallel(n_jobs=-1)]: Done 8450 tasks      | elapsed:  3.2min\n",
      "[Parallel(n_jobs=-1)]: Done 9800 tasks      | elapsed:  3.6min\n",
      "[Parallel(n_jobs=-1)]: Done 11250 tasks      | elapsed:  4.2min\n",
      "[Parallel(n_jobs=-1)]: Done 12800 tasks      | elapsed:  4.7min\n",
      "[Parallel(n_jobs=-1)]: Done 14450 tasks      | elapsed:  5.3min\n",
      "[Parallel(n_jobs=-1)]: Done 16200 tasks      | elapsed:  5.9min\n",
      "[Parallel(n_jobs=-1)]: Done 18050 tasks      | elapsed:  6.5min\n",
      "[Parallel(n_jobs=-1)]: Done 20000 tasks      | elapsed:  7.2min\n",
      "[Parallel(n_jobs=-1)]: Done 22050 tasks      | elapsed:  8.0min\n",
      "[Parallel(n_jobs=-1)]: Done 24200 tasks      | elapsed:  8.9min\n",
      "[Parallel(n_jobs=-1)]: Done 26450 tasks      | elapsed:  9.7min\n",
      "[Parallel(n_jobs=-1)]: Done 28800 tasks      | elapsed: 10.7min\n",
      "[Parallel(n_jobs=-1)]: Done 30000 out of 30000 | elapsed: 11.2min finished\n"
     ]
    },
    {
     "name": "stdout",
     "output_type": "stream",
     "text": [
      "Fitting 15 folds for each of 2000 candidates, totalling 30000 fits\n"
     ]
    },
    {
     "name": "stderr",
     "output_type": "stream",
     "text": [
      "[Parallel(n_jobs=-1)]: Using backend LokyBackend with 64 concurrent workers.\n",
      "[Parallel(n_jobs=-1)]: Done  72 tasks      | elapsed:    1.3s\n",
      "[Parallel(n_jobs=-1)]: Done 426 tasks      | elapsed:    6.2s\n",
      "[Parallel(n_jobs=-1)]: Done 800 tasks      | elapsed:   17.4s\n",
      "[Parallel(n_jobs=-1)]: Done 1250 tasks      | elapsed:   28.6s\n",
      "[Parallel(n_jobs=-1)]: Done 1800 tasks      | elapsed:   41.0s\n",
      "[Parallel(n_jobs=-1)]: Done 2450 tasks      | elapsed:   56.0s\n",
      "[Parallel(n_jobs=-1)]: Done 3200 tasks      | elapsed:  1.2min\n",
      "[Parallel(n_jobs=-1)]: Done 4050 tasks      | elapsed:  1.5min\n",
      "[Parallel(n_jobs=-1)]: Done 5000 tasks      | elapsed:  2.0min\n",
      "[Parallel(n_jobs=-1)]: Done 6050 tasks      | elapsed:  2.4min\n",
      "[Parallel(n_jobs=-1)]: Done 7200 tasks      | elapsed:  2.8min\n",
      "[Parallel(n_jobs=-1)]: Done 8450 tasks      | elapsed:  3.4min\n",
      "[Parallel(n_jobs=-1)]: Done 9800 tasks      | elapsed:  3.8min\n",
      "[Parallel(n_jobs=-1)]: Done 11250 tasks      | elapsed:  4.4min\n",
      "[Parallel(n_jobs=-1)]: Done 12800 tasks      | elapsed:  5.0min\n",
      "[Parallel(n_jobs=-1)]: Done 14450 tasks      | elapsed:  5.6min\n",
      "[Parallel(n_jobs=-1)]: Done 16200 tasks      | elapsed:  6.3min\n",
      "[Parallel(n_jobs=-1)]: Done 18050 tasks      | elapsed:  6.9min\n",
      "[Parallel(n_jobs=-1)]: Done 20000 tasks      | elapsed:  7.7min\n",
      "[Parallel(n_jobs=-1)]: Done 22050 tasks      | elapsed:  8.5min\n",
      "[Parallel(n_jobs=-1)]: Done 24200 tasks      | elapsed:  9.4min\n",
      "[Parallel(n_jobs=-1)]: Done 26450 tasks      | elapsed: 10.2min\n",
      "[Parallel(n_jobs=-1)]: Done 28800 tasks      | elapsed: 11.3min\n",
      "[Parallel(n_jobs=-1)]: Done 30000 out of 30000 | elapsed: 11.8min finished\n"
     ]
    },
    {
     "name": "stdout",
     "output_type": "stream",
     "text": [
      "Fitting 15 folds for each of 2000 candidates, totalling 30000 fits\n"
     ]
    },
    {
     "name": "stderr",
     "output_type": "stream",
     "text": [
      "[Parallel(n_jobs=-1)]: Using backend LokyBackend with 64 concurrent workers.\n",
      "[Parallel(n_jobs=-1)]: Done  73 tasks      | elapsed:    1.3s\n",
      "[Parallel(n_jobs=-1)]: Done 428 tasks      | elapsed:    5.9s\n",
      "[Parallel(n_jobs=-1)]: Done 800 tasks      | elapsed:   16.7s\n",
      "[Parallel(n_jobs=-1)]: Done 1250 tasks      | elapsed:   27.5s\n",
      "[Parallel(n_jobs=-1)]: Done 1800 tasks      | elapsed:   39.8s\n",
      "[Parallel(n_jobs=-1)]: Done 2450 tasks      | elapsed:   53.5s\n",
      "[Parallel(n_jobs=-1)]: Done 3200 tasks      | elapsed:  1.1min\n",
      "[Parallel(n_jobs=-1)]: Done 4050 tasks      | elapsed:  1.5min\n",
      "[Parallel(n_jobs=-1)]: Done 5000 tasks      | elapsed:  1.9min\n",
      "[Parallel(n_jobs=-1)]: Done 6050 tasks      | elapsed:  2.3min\n",
      "[Parallel(n_jobs=-1)]: Done 7200 tasks      | elapsed:  2.7min\n",
      "[Parallel(n_jobs=-1)]: Done 8450 tasks      | elapsed:  3.2min\n",
      "[Parallel(n_jobs=-1)]: Done 9800 tasks      | elapsed:  3.6min\n",
      "[Parallel(n_jobs=-1)]: Done 11250 tasks      | elapsed:  4.2min\n",
      "[Parallel(n_jobs=-1)]: Done 12800 tasks      | elapsed:  4.7min\n",
      "[Parallel(n_jobs=-1)]: Done 14450 tasks      | elapsed:  5.3min\n",
      "[Parallel(n_jobs=-1)]: Done 16200 tasks      | elapsed:  6.0min\n",
      "[Parallel(n_jobs=-1)]: Done 18050 tasks      | elapsed:  6.5min\n",
      "[Parallel(n_jobs=-1)]: Done 20000 tasks      | elapsed:  7.3min\n",
      "[Parallel(n_jobs=-1)]: Done 22050 tasks      | elapsed:  8.1min\n",
      "[Parallel(n_jobs=-1)]: Done 24200 tasks      | elapsed:  8.9min\n",
      "[Parallel(n_jobs=-1)]: Done 26450 tasks      | elapsed:  9.7min\n",
      "[Parallel(n_jobs=-1)]: Done 28800 tasks      | elapsed: 10.7min\n",
      "[Parallel(n_jobs=-1)]: Done 30000 out of 30000 | elapsed: 11.2min finished\n"
     ]
    }
   ],
   "source": [
    "# Run a loop for searching best hyperparameters combination for each algorithm and data set\n",
    "\n",
    "results_hyperparam = []\n",
    "for i in range(len(features['label'])):\n",
    "    for j in range(len(models['label'])):\n",
    "        lab = 'result_rd_{}_{}'.format(models['label'][j], features['label'][i])\n",
    "        ml = models['algorithm'][j]\n",
    "        X = features['values'][i]\n",
    "        preproc = features['preprocessing'][i]\n",
    "        param = models['hyperparameters'][j]\n",
    "        niter = models['iterations'][j]\n",
    "        print('Running {} with {}'.format(models['label'][j], features['label'][i]))\n",
    "        result = iter_rand_search(ml, X, y, preproc, seed, niter, param)\n",
    "        results_hyperparam.append([lab, result])"
   ]
  },
  {
   "cell_type": "code",
   "execution_count": 21,
   "id": "fluid-virginia",
   "metadata": {},
   "outputs": [
    {
     "data": {
      "text/html": [
       "<div>\n",
       "<style scoped>\n",
       "    .dataframe tbody tr th:only-of-type {\n",
       "        vertical-align: middle;\n",
       "    }\n",
       "\n",
       "    .dataframe tbody tr th {\n",
       "        vertical-align: top;\n",
       "    }\n",
       "\n",
       "    .dataframe thead th {\n",
       "        text-align: right;\n",
       "    }\n",
       "</style>\n",
       "<table border=\"1\" class=\"dataframe\">\n",
       "  <thead>\n",
       "    <tr style=\"text-align: right;\">\n",
       "      <th></th>\n",
       "      <th>n_estimators</th>\n",
       "      <th>min_samples_split</th>\n",
       "      <th>min_samples_leaf</th>\n",
       "      <th>max_features</th>\n",
       "      <th>score</th>\n",
       "      <th>Accuracy</th>\n",
       "      <th>f1_score</th>\n",
       "      <th>Acc_CV</th>\n",
       "      <th>f1_CV</th>\n",
       "    </tr>\n",
       "  </thead>\n",
       "  <tbody>\n",
       "    <tr>\n",
       "      <th>57</th>\n",
       "      <td>775</td>\n",
       "      <td>3</td>\n",
       "      <td>1</td>\n",
       "      <td>0.10</td>\n",
       "      <td>0.787513</td>\n",
       "      <td>0.833333</td>\n",
       "      <td>0.818182</td>\n",
       "      <td>0.744127</td>\n",
       "      <td>0.757022</td>\n",
       "    </tr>\n",
       "    <tr>\n",
       "      <th>31</th>\n",
       "      <td>830</td>\n",
       "      <td>2</td>\n",
       "      <td>1</td>\n",
       "      <td>0.05</td>\n",
       "      <td>0.833266</td>\n",
       "      <td>0.833333</td>\n",
       "      <td>0.846154</td>\n",
       "      <td>0.768889</td>\n",
       "      <td>0.786207</td>\n",
       "    </tr>\n",
       "    <tr>\n",
       "      <th>86</th>\n",
       "      <td>10</td>\n",
       "      <td>4</td>\n",
       "      <td>1</td>\n",
       "      <td>0.60</td>\n",
       "      <td>0.777079</td>\n",
       "      <td>0.791667</td>\n",
       "      <td>0.736842</td>\n",
       "      <td>0.691746</td>\n",
       "      <td>0.745638</td>\n",
       "    </tr>\n",
       "  </tbody>\n",
       "</table>\n",
       "</div>"
      ],
      "text/plain": [
       "    n_estimators  min_samples_split  min_samples_leaf  max_features     score  \\\n",
       "57           775                  3                 1          0.10  0.787513   \n",
       "31           830                  2                 1          0.05  0.833266   \n",
       "86            10                  4                 1          0.60  0.777079   \n",
       "\n",
       "    Accuracy  f1_score    Acc_CV     f1_CV  \n",
       "57  0.833333  0.818182  0.744127  0.757022  \n",
       "31  0.833333  0.846154  0.768889  0.786207  \n",
       "86  0.791667  0.736842  0.691746  0.745638  "
      ]
     },
     "execution_count": 21,
     "metadata": {},
     "output_type": "execute_result"
    }
   ],
   "source": [
    "results_hyperparam[0][1]"
   ]
  },
  {
   "cell_type": "code",
   "execution_count": 23,
   "id": "expected-tablet",
   "metadata": {},
   "outputs": [],
   "source": [
    "# Use the created list to export results as csv files\n",
    "for i in results_hyperparam:\n",
    "    i[1].to_csv('./Results/' + i[0] + '.csv')"
   ]
  },
  {
   "cell_type": "code",
   "execution_count": null,
   "id": "charged-proceeding",
   "metadata": {},
   "outputs": [],
   "source": []
  }
 ],
 "metadata": {
  "kernelspec": {
   "display_name": "Python 3",
   "language": "python",
   "name": "python3"
  },
  "language_info": {
   "codemirror_mode": {
    "name": "ipython",
    "version": 3
   },
   "file_extension": ".py",
   "mimetype": "text/x-python",
   "name": "python",
   "nbconvert_exporter": "python",
   "pygments_lexer": "ipython3",
   "version": "3.6.12"
  }
 },
 "nbformat": 4,
 "nbformat_minor": 5
}
